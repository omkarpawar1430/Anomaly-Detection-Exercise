{
 "cells": [
  {
   "cell_type": "code",
   "execution_count": 387,
   "id": "36986271",
   "metadata": {},
   "outputs": [],
   "source": [
    "import pandas as pd\n",
    "import numpy as np\n",
    "import matplotlib.pyplot as plt\n",
    "import seaborn as sns\n",
    "from sklearn.preprocessing import LabelEncoder"
   ]
  },
  {
   "cell_type": "markdown",
   "id": "c7c45b19",
   "metadata": {},
   "source": [
    "# Importing the files"
   ]
  },
  {
   "cell_type": "code",
   "execution_count": 388,
   "id": "fec99121",
   "metadata": {},
   "outputs": [],
   "source": [
    "orgs=pd.read_csv(r\"/home/omkar/Omkar Pawar/Data Science/JOB APPLICATION TASKS/Anomaly Detection Exercise/assets/candidate_eval_04/candidate_eval_04/data/orgs.csv\")\n",
    "devices=pd.read_csv(r\"/home/omkar/Omkar Pawar/Data Science/JOB APPLICATION TASKS/Anomaly Detection Exercise/assets/candidate_eval_04/candidate_eval_04/data/devices.csv\")\n",
    "auth=pd.read_csv(r\"/home/omkar/Omkar Pawar/Data Science/JOB APPLICATION TASKS/Anomaly Detection Exercise/assets/candidate_eval_04/candidate_eval_04/data/auth.csv\")\n",
    "users=pd.read_csv(r\"/home/omkar/Omkar Pawar/Data Science/JOB APPLICATION TASKS/Anomaly Detection Exercise/assets/candidate_eval_04/candidate_eval_04/data/users.csv\")"
   ]
  },
  {
   "cell_type": "markdown",
   "id": "36a6d982",
   "metadata": {},
   "source": [
    "# Devices Table\n",
    "\n",
    "device_id : device ID (PK)\n",
    "\n",
    "type : the type of device (mobile, desktop, laptop, etc.)\n",
    "\n",
    "os : operating system of the device (ios, windows, linux, etc.)"
   ]
  },
  {
   "cell_type": "code",
   "execution_count": 389,
   "id": "bf11c7cf",
   "metadata": {},
   "outputs": [
    {
     "data": {
      "text/html": [
       "<div>\n",
       "<style scoped>\n",
       "    .dataframe tbody tr th:only-of-type {\n",
       "        vertical-align: middle;\n",
       "    }\n",
       "\n",
       "    .dataframe tbody tr th {\n",
       "        vertical-align: top;\n",
       "    }\n",
       "\n",
       "    .dataframe thead th {\n",
       "        text-align: right;\n",
       "    }\n",
       "</style>\n",
       "<table border=\"1\" class=\"dataframe\">\n",
       "  <thead>\n",
       "    <tr style=\"text-align: right;\">\n",
       "      <th></th>\n",
       "      <th>device_id</th>\n",
       "      <th>type</th>\n",
       "      <th>os</th>\n",
       "    </tr>\n",
       "  </thead>\n",
       "  <tbody>\n",
       "    <tr>\n",
       "      <th>0</th>\n",
       "      <td>T9Y4L3GN</td>\n",
       "      <td>desktop</td>\n",
       "      <td>linux</td>\n",
       "    </tr>\n",
       "    <tr>\n",
       "      <th>1</th>\n",
       "      <td>HJNUR4IE</td>\n",
       "      <td>laptop</td>\n",
       "      <td>linux</td>\n",
       "    </tr>\n",
       "    <tr>\n",
       "      <th>2</th>\n",
       "      <td>EWDXU1I8</td>\n",
       "      <td>mobile</td>\n",
       "      <td>android</td>\n",
       "    </tr>\n",
       "    <tr>\n",
       "      <th>3</th>\n",
       "      <td>WB5L1NBI</td>\n",
       "      <td>mobile</td>\n",
       "      <td>ios</td>\n",
       "    </tr>\n",
       "    <tr>\n",
       "      <th>4</th>\n",
       "      <td>YMO16TKN</td>\n",
       "      <td>mobile</td>\n",
       "      <td>android</td>\n",
       "    </tr>\n",
       "    <tr>\n",
       "      <th>...</th>\n",
       "      <td>...</td>\n",
       "      <td>...</td>\n",
       "      <td>...</td>\n",
       "    </tr>\n",
       "    <tr>\n",
       "      <th>495</th>\n",
       "      <td>64J7XNZT</td>\n",
       "      <td>mobile</td>\n",
       "      <td>ios</td>\n",
       "    </tr>\n",
       "    <tr>\n",
       "      <th>496</th>\n",
       "      <td>A9NMTSGO</td>\n",
       "      <td>mobile</td>\n",
       "      <td>android</td>\n",
       "    </tr>\n",
       "    <tr>\n",
       "      <th>497</th>\n",
       "      <td>QYP90TKH</td>\n",
       "      <td>NaN</td>\n",
       "      <td>NaN</td>\n",
       "    </tr>\n",
       "    <tr>\n",
       "      <th>498</th>\n",
       "      <td>9JE5CZZE</td>\n",
       "      <td>mobile</td>\n",
       "      <td>android</td>\n",
       "    </tr>\n",
       "    <tr>\n",
       "      <th>499</th>\n",
       "      <td>8V5K5CMK</td>\n",
       "      <td>mobile</td>\n",
       "      <td>android</td>\n",
       "    </tr>\n",
       "  </tbody>\n",
       "</table>\n",
       "<p>500 rows × 3 columns</p>\n",
       "</div>"
      ],
      "text/plain": [
       "    device_id     type       os\n",
       "0    T9Y4L3GN  desktop    linux\n",
       "1    HJNUR4IE   laptop    linux\n",
       "2    EWDXU1I8   mobile  android\n",
       "3    WB5L1NBI   mobile      ios\n",
       "4    YMO16TKN   mobile  android\n",
       "..        ...      ...      ...\n",
       "495  64J7XNZT   mobile      ios\n",
       "496  A9NMTSGO   mobile  android\n",
       "497  QYP90TKH      NaN      NaN\n",
       "498  9JE5CZZE   mobile  android\n",
       "499  8V5K5CMK   mobile  android\n",
       "\n",
       "[500 rows x 3 columns]"
      ]
     },
     "execution_count": 389,
     "metadata": {},
     "output_type": "execute_result"
    }
   ],
   "source": [
    "devices"
   ]
  },
  {
   "cell_type": "code",
   "execution_count": 390,
   "id": "38c63040",
   "metadata": {},
   "outputs": [
    {
     "data": {
      "text/plain": [
       "1500"
      ]
     },
     "execution_count": 390,
     "metadata": {},
     "output_type": "execute_result"
    }
   ],
   "source": [
    "devices.size"
   ]
  },
  {
   "cell_type": "code",
   "execution_count": 391,
   "id": "6c252d38-65be-49eb-9b7e-3c1d39e114ae",
   "metadata": {},
   "outputs": [
    {
     "data": {
      "text/plain": [
       "device_id     0\n",
       "type         29\n",
       "os           57\n",
       "dtype: int64"
      ]
     },
     "execution_count": 391,
     "metadata": {},
     "output_type": "execute_result"
    }
   ],
   "source": [
    "devices.isna().sum()"
   ]
  },
  {
   "cell_type": "markdown",
   "id": "9791fc7e",
   "metadata": {},
   "source": [
    "# missing value is present\n"
   ]
  },
  {
   "cell_type": "code",
   "execution_count": 392,
   "id": "329ecd73-ecf3-4caa-bd6e-2d8fa1db8d2b",
   "metadata": {},
   "outputs": [
    {
     "data": {
      "text/plain": [
       "False    500\n",
       "Name: count, dtype: int64"
      ]
     },
     "execution_count": 392,
     "metadata": {},
     "output_type": "execute_result"
    }
   ],
   "source": [
    "devices.duplicated().value_counts()"
   ]
  },
  {
   "cell_type": "code",
   "execution_count": 393,
   "id": "74ffc165",
   "metadata": {},
   "outputs": [
    {
     "data": {
      "text/plain": [
       "device_id    0\n",
       "type         0\n",
       "os           0\n",
       "dtype: int64"
      ]
     },
     "execution_count": 393,
     "metadata": {},
     "output_type": "execute_result"
    }
   ],
   "source": [
    "devices=devices.dropna()\n",
    "devices=devices.drop_duplicates()\n",
    "devices.isnull().sum()"
   ]
  },
  {
   "cell_type": "code",
   "execution_count": 394,
   "id": "efeb6c22",
   "metadata": {},
   "outputs": [
    {
     "name": "stdout",
     "output_type": "stream",
     "text": [
      "<class 'pandas.core.frame.DataFrame'>\n",
      "Index: 443 entries, 0 to 499\n",
      "Data columns (total 3 columns):\n",
      " #   Column     Non-Null Count  Dtype \n",
      "---  ------     --------------  ----- \n",
      " 0   device_id  443 non-null    object\n",
      " 1   type       443 non-null    object\n",
      " 2   os         443 non-null    object\n",
      "dtypes: object(3)\n",
      "memory usage: 13.8+ KB\n"
     ]
    }
   ],
   "source": [
    "devices.info()"
   ]
  },
  {
   "cell_type": "markdown",
   "id": "398d1b58",
   "metadata": {},
   "source": [
    "droped missing value because missing value is very less campare to data"
   ]
  },
  {
   "cell_type": "code",
   "execution_count": 395,
   "id": "9b10ca37",
   "metadata": {},
   "outputs": [
    {
     "data": {
      "text/plain": [
       "1329"
      ]
     },
     "execution_count": 395,
     "metadata": {},
     "output_type": "execute_result"
    }
   ],
   "source": [
    "devices.size"
   ]
  },
  {
   "cell_type": "markdown",
   "id": "7d048214",
   "metadata": {},
   "source": [
    "three type of device is present"
   ]
  },
  {
   "cell_type": "code",
   "execution_count": 396,
   "id": "f5f9ebf2",
   "metadata": {},
   "outputs": [
    {
     "data": {
      "text/plain": [
       "array(['desktop', 'laptop', 'mobile'], dtype=object)"
      ]
     },
     "execution_count": 396,
     "metadata": {},
     "output_type": "execute_result"
    }
   ],
   "source": [
    "devices['type'].unique()"
   ]
  },
  {
   "cell_type": "code",
   "execution_count": 397,
   "id": "dc2bc680-a060-498d-ba8b-f2a7db36f1ee",
   "metadata": {},
   "outputs": [
    {
     "data": {
      "text/plain": [
       "(443, 3)"
      ]
     },
     "execution_count": 397,
     "metadata": {},
     "output_type": "execute_result"
    }
   ],
   "source": [
    "devices.shape"
   ]
  },
  {
   "cell_type": "code",
   "execution_count": 398,
   "id": "e45500f5",
   "metadata": {},
   "outputs": [
    {
     "data": {
      "text/plain": [
       "False"
      ]
     },
     "execution_count": 398,
     "metadata": {},
     "output_type": "execute_result"
    }
   ],
   "source": [
    "devices.duplicated().any()"
   ]
  },
  {
   "cell_type": "markdown",
   "id": "9fcaf686",
   "metadata": {},
   "source": [
    "5 os is present\n"
   ]
  },
  {
   "cell_type": "code",
   "execution_count": 399,
   "id": "0d989e90",
   "metadata": {},
   "outputs": [
    {
     "data": {
      "text/plain": [
       "array(['linux', 'android', 'ios', 'windows', 'macos'], dtype=object)"
      ]
     },
     "execution_count": 399,
     "metadata": {},
     "output_type": "execute_result"
    }
   ],
   "source": [
    "devices['os'].unique()"
   ]
  },
  {
   "cell_type": "markdown",
   "id": "581d9ba3",
   "metadata": {},
   "source": [
    "# Authorization events\n",
    "time : timestamp of authentication event\n",
    "\n",
    "id : authentication event ID (PK)\n",
    "\n",
    "device_id : Device ID (FK)\n",
    "\n",
    "user_id : User ID (FK)\n",
    "\n",
    "result : authentication attempt result { success : the user could access the service, failure\n",
    ": unable to authenticate for any reason }\n",
    "\n",
    "method : method of authentication (push, fingerprint, sms, etc.)\n",
    "\n",
    "country : country associated with the authentication attempt"
   ]
  },
  {
   "cell_type": "code",
   "execution_count": 400,
   "id": "cd643512",
   "metadata": {
    "scrolled": true
   },
   "outputs": [
    {
     "data": {
      "text/html": [
       "<div>\n",
       "<style scoped>\n",
       "    .dataframe tbody tr th:only-of-type {\n",
       "        vertical-align: middle;\n",
       "    }\n",
       "\n",
       "    .dataframe tbody tr th {\n",
       "        vertical-align: top;\n",
       "    }\n",
       "\n",
       "    .dataframe thead th {\n",
       "        text-align: right;\n",
       "    }\n",
       "</style>\n",
       "<table border=\"1\" class=\"dataframe\">\n",
       "  <thead>\n",
       "    <tr style=\"text-align: right;\">\n",
       "      <th></th>\n",
       "      <th>time</th>\n",
       "      <th>id</th>\n",
       "      <th>device_id</th>\n",
       "      <th>user_id</th>\n",
       "      <th>result</th>\n",
       "      <th>method</th>\n",
       "      <th>country</th>\n",
       "    </tr>\n",
       "  </thead>\n",
       "  <tbody>\n",
       "    <tr>\n",
       "      <th>0</th>\n",
       "      <td>2022-01-01T00:00:00.000000</td>\n",
       "      <td>2S3QG0RI</td>\n",
       "      <td>1LJHRFGQ</td>\n",
       "      <td>h8bjzx051</td>\n",
       "      <td>success</td>\n",
       "      <td>sms</td>\n",
       "      <td>US</td>\n",
       "    </tr>\n",
       "    <tr>\n",
       "      <th>1</th>\n",
       "      <td>2022-01-01T01:00:00.000000</td>\n",
       "      <td>F7UM6L7G</td>\n",
       "      <td>0X5KWKBI</td>\n",
       "      <td>yquf02g05</td>\n",
       "      <td>success</td>\n",
       "      <td>sms</td>\n",
       "      <td>DE</td>\n",
       "    </tr>\n",
       "    <tr>\n",
       "      <th>2</th>\n",
       "      <td>2022-01-01T02:00:00.000000</td>\n",
       "      <td>3YDFTQZ1</td>\n",
       "      <td>CZ6I214Z</td>\n",
       "      <td>axgrj7naq</td>\n",
       "      <td>success</td>\n",
       "      <td>sms</td>\n",
       "      <td>JP</td>\n",
       "    </tr>\n",
       "    <tr>\n",
       "      <th>3</th>\n",
       "      <td>2022-01-01T03:00:00.000000</td>\n",
       "      <td>VD4MV9UK</td>\n",
       "      <td>4XUNKHKY</td>\n",
       "      <td>pxxk389fw</td>\n",
       "      <td>failure</td>\n",
       "      <td>push</td>\n",
       "      <td>DE</td>\n",
       "    </tr>\n",
       "    <tr>\n",
       "      <th>4</th>\n",
       "      <td>2022-01-01T04:00:00.000000</td>\n",
       "      <td>LBKNLAGY</td>\n",
       "      <td>G5FQGCG4</td>\n",
       "      <td>6wlsi25fe</td>\n",
       "      <td>success</td>\n",
       "      <td>fingerprint</td>\n",
       "      <td>US</td>\n",
       "    </tr>\n",
       "    <tr>\n",
       "      <th>...</th>\n",
       "      <td>...</td>\n",
       "      <td>...</td>\n",
       "      <td>...</td>\n",
       "      <td>...</td>\n",
       "      <td>...</td>\n",
       "      <td>...</td>\n",
       "      <td>...</td>\n",
       "    </tr>\n",
       "    <tr>\n",
       "      <th>49995</th>\n",
       "      <td>2027-09-15T03:00:00.000000</td>\n",
       "      <td>KG9Q2HOG</td>\n",
       "      <td>100SRMR8</td>\n",
       "      <td>jmh949xce</td>\n",
       "      <td>failure</td>\n",
       "      <td>sms</td>\n",
       "      <td>JP</td>\n",
       "    </tr>\n",
       "    <tr>\n",
       "      <th>49996</th>\n",
       "      <td>2027-09-15T04:00:00.000000</td>\n",
       "      <td>R64NBTSD</td>\n",
       "      <td>8P4NX6SL</td>\n",
       "      <td>6vv2hdh4j</td>\n",
       "      <td>success</td>\n",
       "      <td>fingerprint</td>\n",
       "      <td>JP</td>\n",
       "    </tr>\n",
       "    <tr>\n",
       "      <th>49997</th>\n",
       "      <td>2027-09-15T05:00:00.000000</td>\n",
       "      <td>ULOXIXP1</td>\n",
       "      <td>MCNYY9W8</td>\n",
       "      <td>41sw3r9tn</td>\n",
       "      <td>success</td>\n",
       "      <td>sms</td>\n",
       "      <td>NaN</td>\n",
       "    </tr>\n",
       "    <tr>\n",
       "      <th>49998</th>\n",
       "      <td>2027-09-15T06:00:00.000000</td>\n",
       "      <td>QK4YHC53</td>\n",
       "      <td>XCWEI7HM</td>\n",
       "      <td>v0ye3gb5i</td>\n",
       "      <td>failure</td>\n",
       "      <td>sms</td>\n",
       "      <td>US</td>\n",
       "    </tr>\n",
       "    <tr>\n",
       "      <th>49999</th>\n",
       "      <td>2027-09-15T07:00:00.000000</td>\n",
       "      <td>C9P04QTG</td>\n",
       "      <td>1X3HAIL1</td>\n",
       "      <td>dm9ol43hv</td>\n",
       "      <td>success</td>\n",
       "      <td>push</td>\n",
       "      <td>GB</td>\n",
       "    </tr>\n",
       "  </tbody>\n",
       "</table>\n",
       "<p>50000 rows × 7 columns</p>\n",
       "</div>"
      ],
      "text/plain": [
       "                             time        id device_id    user_id   result   \n",
       "0      2022-01-01T00:00:00.000000  2S3QG0RI  1LJHRFGQ  h8bjzx051  success  \\\n",
       "1      2022-01-01T01:00:00.000000  F7UM6L7G  0X5KWKBI  yquf02g05  success   \n",
       "2      2022-01-01T02:00:00.000000  3YDFTQZ1  CZ6I214Z  axgrj7naq  success   \n",
       "3      2022-01-01T03:00:00.000000  VD4MV9UK  4XUNKHKY  pxxk389fw  failure   \n",
       "4      2022-01-01T04:00:00.000000  LBKNLAGY  G5FQGCG4  6wlsi25fe  success   \n",
       "...                           ...       ...       ...        ...      ...   \n",
       "49995  2027-09-15T03:00:00.000000  KG9Q2HOG  100SRMR8  jmh949xce  failure   \n",
       "49996  2027-09-15T04:00:00.000000  R64NBTSD  8P4NX6SL  6vv2hdh4j  success   \n",
       "49997  2027-09-15T05:00:00.000000  ULOXIXP1  MCNYY9W8  41sw3r9tn  success   \n",
       "49998  2027-09-15T06:00:00.000000  QK4YHC53  XCWEI7HM  v0ye3gb5i  failure   \n",
       "49999  2027-09-15T07:00:00.000000  C9P04QTG  1X3HAIL1  dm9ol43hv  success   \n",
       "\n",
       "            method country  \n",
       "0              sms      US  \n",
       "1              sms      DE  \n",
       "2              sms      JP  \n",
       "3             push      DE  \n",
       "4      fingerprint      US  \n",
       "...            ...     ...  \n",
       "49995          sms      JP  \n",
       "49996  fingerprint      JP  \n",
       "49997          sms     NaN  \n",
       "49998          sms      US  \n",
       "49999         push      GB  \n",
       "\n",
       "[50000 rows x 7 columns]"
      ]
     },
     "execution_count": 400,
     "metadata": {},
     "output_type": "execute_result"
    }
   ],
   "source": [
    "auth"
   ]
  },
  {
   "cell_type": "markdown",
   "id": "a77c6294",
   "metadata": {},
   "source": [
    "Converting the time column from timestamp to date, as the time is not needed for analysis and then renamed the time column to the name date as it makes more sense."
   ]
  },
  {
   "cell_type": "code",
   "execution_count": 401,
   "id": "4335ffbe",
   "metadata": {},
   "outputs": [],
   "source": [
    "# auth['time']= pd.to_datetime(auth['time']).dt.date\n",
    "# auth=auth.rename(columns={'time':'Date'}) # Rename column"
   ]
  },
  {
   "cell_type": "code",
   "execution_count": null,
   "id": "0b9b9f38",
   "metadata": {},
   "outputs": [],
   "source": []
  },
  {
   "cell_type": "code",
   "execution_count": 402,
   "id": "525daacd",
   "metadata": {},
   "outputs": [
    {
     "data": {
      "text/html": [
       "<div>\n",
       "<style scoped>\n",
       "    .dataframe tbody tr th:only-of-type {\n",
       "        vertical-align: middle;\n",
       "    }\n",
       "\n",
       "    .dataframe tbody tr th {\n",
       "        vertical-align: top;\n",
       "    }\n",
       "\n",
       "    .dataframe thead th {\n",
       "        text-align: right;\n",
       "    }\n",
       "</style>\n",
       "<table border=\"1\" class=\"dataframe\">\n",
       "  <thead>\n",
       "    <tr style=\"text-align: right;\">\n",
       "      <th></th>\n",
       "      <th>time</th>\n",
       "      <th>id</th>\n",
       "      <th>device_id</th>\n",
       "      <th>user_id</th>\n",
       "      <th>result</th>\n",
       "      <th>method</th>\n",
       "      <th>country</th>\n",
       "    </tr>\n",
       "  </thead>\n",
       "  <tbody>\n",
       "    <tr>\n",
       "      <th>0</th>\n",
       "      <td>2022-01-01T00:00:00.000000</td>\n",
       "      <td>2S3QG0RI</td>\n",
       "      <td>1LJHRFGQ</td>\n",
       "      <td>h8bjzx051</td>\n",
       "      <td>success</td>\n",
       "      <td>sms</td>\n",
       "      <td>US</td>\n",
       "    </tr>\n",
       "    <tr>\n",
       "      <th>1</th>\n",
       "      <td>2022-01-01T01:00:00.000000</td>\n",
       "      <td>F7UM6L7G</td>\n",
       "      <td>0X5KWKBI</td>\n",
       "      <td>yquf02g05</td>\n",
       "      <td>success</td>\n",
       "      <td>sms</td>\n",
       "      <td>DE</td>\n",
       "    </tr>\n",
       "    <tr>\n",
       "      <th>2</th>\n",
       "      <td>2022-01-01T02:00:00.000000</td>\n",
       "      <td>3YDFTQZ1</td>\n",
       "      <td>CZ6I214Z</td>\n",
       "      <td>axgrj7naq</td>\n",
       "      <td>success</td>\n",
       "      <td>sms</td>\n",
       "      <td>JP</td>\n",
       "    </tr>\n",
       "    <tr>\n",
       "      <th>3</th>\n",
       "      <td>2022-01-01T03:00:00.000000</td>\n",
       "      <td>VD4MV9UK</td>\n",
       "      <td>4XUNKHKY</td>\n",
       "      <td>pxxk389fw</td>\n",
       "      <td>failure</td>\n",
       "      <td>push</td>\n",
       "      <td>DE</td>\n",
       "    </tr>\n",
       "    <tr>\n",
       "      <th>4</th>\n",
       "      <td>2022-01-01T04:00:00.000000</td>\n",
       "      <td>LBKNLAGY</td>\n",
       "      <td>G5FQGCG4</td>\n",
       "      <td>6wlsi25fe</td>\n",
       "      <td>success</td>\n",
       "      <td>fingerprint</td>\n",
       "      <td>US</td>\n",
       "    </tr>\n",
       "  </tbody>\n",
       "</table>\n",
       "</div>"
      ],
      "text/plain": [
       "                         time        id device_id    user_id   result   \n",
       "0  2022-01-01T00:00:00.000000  2S3QG0RI  1LJHRFGQ  h8bjzx051  success  \\\n",
       "1  2022-01-01T01:00:00.000000  F7UM6L7G  0X5KWKBI  yquf02g05  success   \n",
       "2  2022-01-01T02:00:00.000000  3YDFTQZ1  CZ6I214Z  axgrj7naq  success   \n",
       "3  2022-01-01T03:00:00.000000  VD4MV9UK  4XUNKHKY  pxxk389fw  failure   \n",
       "4  2022-01-01T04:00:00.000000  LBKNLAGY  G5FQGCG4  6wlsi25fe  success   \n",
       "\n",
       "        method country  \n",
       "0          sms      US  \n",
       "1          sms      DE  \n",
       "2          sms      JP  \n",
       "3         push      DE  \n",
       "4  fingerprint      US  "
      ]
     },
     "execution_count": 402,
     "metadata": {},
     "output_type": "execute_result"
    }
   ],
   "source": [
    "auth.head()"
   ]
  },
  {
   "cell_type": "code",
   "execution_count": 403,
   "id": "c14fa5db",
   "metadata": {},
   "outputs": [
    {
     "data": {
      "text/plain": [
       "350000"
      ]
     },
     "execution_count": 403,
     "metadata": {},
     "output_type": "execute_result"
    }
   ],
   "source": [
    "auth.size\n"
   ]
  },
  {
   "cell_type": "code",
   "execution_count": 404,
   "id": "eb89e5d7",
   "metadata": {},
   "outputs": [
    {
     "data": {
      "text/plain": [
       "array(['sms', 'push', 'fingerprint', nan], dtype=object)"
      ]
     },
     "execution_count": 404,
     "metadata": {},
     "output_type": "execute_result"
    }
   ],
   "source": [
    "auth['method'].unique()"
   ]
  },
  {
   "cell_type": "markdown",
   "id": "9b3feea9",
   "metadata": {},
   "source": [
    "fill missing values and duplicates"
   ]
  },
  {
   "cell_type": "code",
   "execution_count": 405,
   "id": "7f7906ee-5306-416b-96b1-6a347dc6f8f6",
   "metadata": {},
   "outputs": [
    {
     "data": {
      "text/plain": [
       "time            0\n",
       "id              0\n",
       "device_id       0\n",
       "user_id         0\n",
       "result          0\n",
       "method       2566\n",
       "country      2497\n",
       "dtype: int64"
      ]
     },
     "execution_count": 405,
     "metadata": {},
     "output_type": "execute_result"
    }
   ],
   "source": [
    "auth.isna().sum()"
   ]
  },
  {
   "cell_type": "markdown",
   "id": "b838395a",
   "metadata": {},
   "source": [
    "no duplicate present\n"
   ]
  },
  {
   "cell_type": "code",
   "execution_count": 406,
   "id": "5980e6a5",
   "metadata": {},
   "outputs": [
    {
     "name": "stdout",
     "output_type": "stream",
     "text": [
      "Number of duplicate rows: 0\n"
     ]
    }
   ],
   "source": [
    "duplicate_count = auth.duplicated().sum()\n",
    "print(\"Number of duplicate rows:\", duplicate_count)\n"
   ]
  },
  {
   "cell_type": "code",
   "execution_count": 407,
   "id": "6dd1c5a6",
   "metadata": {},
   "outputs": [],
   "source": [
    "auth['method'].fillna(auth['method'].mode()[0], inplace=True)\n",
    "auth['country'].fillna(auth['country'].mode()[0], inplace=True)\n"
   ]
  },
  {
   "cell_type": "code",
   "execution_count": 408,
   "id": "c376bc17",
   "metadata": {},
   "outputs": [
    {
     "data": {
      "text/plain": [
       "350000"
      ]
     },
     "execution_count": 408,
     "metadata": {},
     "output_type": "execute_result"
    }
   ],
   "source": [
    "auth.size"
   ]
  },
  {
   "cell_type": "code",
   "execution_count": 409,
   "id": "41165405",
   "metadata": {},
   "outputs": [
    {
     "data": {
      "text/html": [
       "<div>\n",
       "<style scoped>\n",
       "    .dataframe tbody tr th:only-of-type {\n",
       "        vertical-align: middle;\n",
       "    }\n",
       "\n",
       "    .dataframe tbody tr th {\n",
       "        vertical-align: top;\n",
       "    }\n",
       "\n",
       "    .dataframe thead th {\n",
       "        text-align: right;\n",
       "    }\n",
       "</style>\n",
       "<table border=\"1\" class=\"dataframe\">\n",
       "  <thead>\n",
       "    <tr style=\"text-align: right;\">\n",
       "      <th></th>\n",
       "      <th>time</th>\n",
       "      <th>id</th>\n",
       "      <th>device_id</th>\n",
       "      <th>user_id</th>\n",
       "      <th>result</th>\n",
       "      <th>method</th>\n",
       "      <th>country</th>\n",
       "    </tr>\n",
       "  </thead>\n",
       "  <tbody>\n",
       "    <tr>\n",
       "      <th>0</th>\n",
       "      <td>2022-01-01T00:00:00.000000</td>\n",
       "      <td>2S3QG0RI</td>\n",
       "      <td>1LJHRFGQ</td>\n",
       "      <td>h8bjzx051</td>\n",
       "      <td>success</td>\n",
       "      <td>sms</td>\n",
       "      <td>US</td>\n",
       "    </tr>\n",
       "    <tr>\n",
       "      <th>1</th>\n",
       "      <td>2022-01-01T01:00:00.000000</td>\n",
       "      <td>F7UM6L7G</td>\n",
       "      <td>0X5KWKBI</td>\n",
       "      <td>yquf02g05</td>\n",
       "      <td>success</td>\n",
       "      <td>sms</td>\n",
       "      <td>DE</td>\n",
       "    </tr>\n",
       "    <tr>\n",
       "      <th>2</th>\n",
       "      <td>2022-01-01T02:00:00.000000</td>\n",
       "      <td>3YDFTQZ1</td>\n",
       "      <td>CZ6I214Z</td>\n",
       "      <td>axgrj7naq</td>\n",
       "      <td>success</td>\n",
       "      <td>sms</td>\n",
       "      <td>JP</td>\n",
       "    </tr>\n",
       "    <tr>\n",
       "      <th>3</th>\n",
       "      <td>2022-01-01T03:00:00.000000</td>\n",
       "      <td>VD4MV9UK</td>\n",
       "      <td>4XUNKHKY</td>\n",
       "      <td>pxxk389fw</td>\n",
       "      <td>failure</td>\n",
       "      <td>push</td>\n",
       "      <td>DE</td>\n",
       "    </tr>\n",
       "    <tr>\n",
       "      <th>4</th>\n",
       "      <td>2022-01-01T04:00:00.000000</td>\n",
       "      <td>LBKNLAGY</td>\n",
       "      <td>G5FQGCG4</td>\n",
       "      <td>6wlsi25fe</td>\n",
       "      <td>success</td>\n",
       "      <td>fingerprint</td>\n",
       "      <td>US</td>\n",
       "    </tr>\n",
       "    <tr>\n",
       "      <th>...</th>\n",
       "      <td>...</td>\n",
       "      <td>...</td>\n",
       "      <td>...</td>\n",
       "      <td>...</td>\n",
       "      <td>...</td>\n",
       "      <td>...</td>\n",
       "      <td>...</td>\n",
       "    </tr>\n",
       "    <tr>\n",
       "      <th>49995</th>\n",
       "      <td>2027-09-15T03:00:00.000000</td>\n",
       "      <td>KG9Q2HOG</td>\n",
       "      <td>100SRMR8</td>\n",
       "      <td>jmh949xce</td>\n",
       "      <td>failure</td>\n",
       "      <td>sms</td>\n",
       "      <td>JP</td>\n",
       "    </tr>\n",
       "    <tr>\n",
       "      <th>49996</th>\n",
       "      <td>2027-09-15T04:00:00.000000</td>\n",
       "      <td>R64NBTSD</td>\n",
       "      <td>8P4NX6SL</td>\n",
       "      <td>6vv2hdh4j</td>\n",
       "      <td>success</td>\n",
       "      <td>fingerprint</td>\n",
       "      <td>JP</td>\n",
       "    </tr>\n",
       "    <tr>\n",
       "      <th>49997</th>\n",
       "      <td>2027-09-15T05:00:00.000000</td>\n",
       "      <td>ULOXIXP1</td>\n",
       "      <td>MCNYY9W8</td>\n",
       "      <td>41sw3r9tn</td>\n",
       "      <td>success</td>\n",
       "      <td>sms</td>\n",
       "      <td>US</td>\n",
       "    </tr>\n",
       "    <tr>\n",
       "      <th>49998</th>\n",
       "      <td>2027-09-15T06:00:00.000000</td>\n",
       "      <td>QK4YHC53</td>\n",
       "      <td>XCWEI7HM</td>\n",
       "      <td>v0ye3gb5i</td>\n",
       "      <td>failure</td>\n",
       "      <td>sms</td>\n",
       "      <td>US</td>\n",
       "    </tr>\n",
       "    <tr>\n",
       "      <th>49999</th>\n",
       "      <td>2027-09-15T07:00:00.000000</td>\n",
       "      <td>C9P04QTG</td>\n",
       "      <td>1X3HAIL1</td>\n",
       "      <td>dm9ol43hv</td>\n",
       "      <td>success</td>\n",
       "      <td>push</td>\n",
       "      <td>GB</td>\n",
       "    </tr>\n",
       "  </tbody>\n",
       "</table>\n",
       "<p>50000 rows × 7 columns</p>\n",
       "</div>"
      ],
      "text/plain": [
       "                             time        id device_id    user_id   result   \n",
       "0      2022-01-01T00:00:00.000000  2S3QG0RI  1LJHRFGQ  h8bjzx051  success  \\\n",
       "1      2022-01-01T01:00:00.000000  F7UM6L7G  0X5KWKBI  yquf02g05  success   \n",
       "2      2022-01-01T02:00:00.000000  3YDFTQZ1  CZ6I214Z  axgrj7naq  success   \n",
       "3      2022-01-01T03:00:00.000000  VD4MV9UK  4XUNKHKY  pxxk389fw  failure   \n",
       "4      2022-01-01T04:00:00.000000  LBKNLAGY  G5FQGCG4  6wlsi25fe  success   \n",
       "...                           ...       ...       ...        ...      ...   \n",
       "49995  2027-09-15T03:00:00.000000  KG9Q2HOG  100SRMR8  jmh949xce  failure   \n",
       "49996  2027-09-15T04:00:00.000000  R64NBTSD  8P4NX6SL  6vv2hdh4j  success   \n",
       "49997  2027-09-15T05:00:00.000000  ULOXIXP1  MCNYY9W8  41sw3r9tn  success   \n",
       "49998  2027-09-15T06:00:00.000000  QK4YHC53  XCWEI7HM  v0ye3gb5i  failure   \n",
       "49999  2027-09-15T07:00:00.000000  C9P04QTG  1X3HAIL1  dm9ol43hv  success   \n",
       "\n",
       "            method country  \n",
       "0              sms      US  \n",
       "1              sms      DE  \n",
       "2              sms      JP  \n",
       "3             push      DE  \n",
       "4      fingerprint      US  \n",
       "...            ...     ...  \n",
       "49995          sms      JP  \n",
       "49996  fingerprint      JP  \n",
       "49997          sms      US  \n",
       "49998          sms      US  \n",
       "49999         push      GB  \n",
       "\n",
       "[50000 rows x 7 columns]"
      ]
     },
     "execution_count": 409,
     "metadata": {},
     "output_type": "execute_result"
    }
   ],
   "source": [
    "#auth=auth.dropna()\n",
    "#auth=auth.drop_duplicates()\n",
    "auth"
   ]
  },
  {
   "cell_type": "code",
   "execution_count": 410,
   "id": "e027166e",
   "metadata": {},
   "outputs": [
    {
     "data": {
      "text/plain": [
       "time         0\n",
       "id           0\n",
       "device_id    0\n",
       "user_id      0\n",
       "result       0\n",
       "method       0\n",
       "country      0\n",
       "dtype: int64"
      ]
     },
     "execution_count": 410,
     "metadata": {},
     "output_type": "execute_result"
    }
   ],
   "source": [
    "auth.isnull().sum()"
   ]
  },
  {
   "cell_type": "code",
   "execution_count": 411,
   "id": "eaf84995",
   "metadata": {},
   "outputs": [
    {
     "data": {
      "text/html": [
       "<div>\n",
       "<style scoped>\n",
       "    .dataframe tbody tr th:only-of-type {\n",
       "        vertical-align: middle;\n",
       "    }\n",
       "\n",
       "    .dataframe tbody tr th {\n",
       "        vertical-align: top;\n",
       "    }\n",
       "\n",
       "    .dataframe thead th {\n",
       "        text-align: right;\n",
       "    }\n",
       "</style>\n",
       "<table border=\"1\" class=\"dataframe\">\n",
       "  <thead>\n",
       "    <tr style=\"text-align: right;\">\n",
       "      <th></th>\n",
       "      <th>time</th>\n",
       "      <th>id</th>\n",
       "      <th>device_id</th>\n",
       "      <th>user_id</th>\n",
       "      <th>result</th>\n",
       "      <th>method</th>\n",
       "      <th>country</th>\n",
       "    </tr>\n",
       "  </thead>\n",
       "  <tbody>\n",
       "    <tr>\n",
       "      <th>0</th>\n",
       "      <td>2022-01-01T00:00:00.000000</td>\n",
       "      <td>2S3QG0RI</td>\n",
       "      <td>1LJHRFGQ</td>\n",
       "      <td>h8bjzx051</td>\n",
       "      <td>success</td>\n",
       "      <td>sms</td>\n",
       "      <td>US</td>\n",
       "    </tr>\n",
       "    <tr>\n",
       "      <th>1</th>\n",
       "      <td>2022-01-01T01:00:00.000000</td>\n",
       "      <td>F7UM6L7G</td>\n",
       "      <td>0X5KWKBI</td>\n",
       "      <td>yquf02g05</td>\n",
       "      <td>success</td>\n",
       "      <td>sms</td>\n",
       "      <td>DE</td>\n",
       "    </tr>\n",
       "    <tr>\n",
       "      <th>2</th>\n",
       "      <td>2022-01-01T02:00:00.000000</td>\n",
       "      <td>3YDFTQZ1</td>\n",
       "      <td>CZ6I214Z</td>\n",
       "      <td>axgrj7naq</td>\n",
       "      <td>success</td>\n",
       "      <td>sms</td>\n",
       "      <td>JP</td>\n",
       "    </tr>\n",
       "    <tr>\n",
       "      <th>3</th>\n",
       "      <td>2022-01-01T03:00:00.000000</td>\n",
       "      <td>VD4MV9UK</td>\n",
       "      <td>4XUNKHKY</td>\n",
       "      <td>pxxk389fw</td>\n",
       "      <td>failure</td>\n",
       "      <td>push</td>\n",
       "      <td>DE</td>\n",
       "    </tr>\n",
       "    <tr>\n",
       "      <th>4</th>\n",
       "      <td>2022-01-01T04:00:00.000000</td>\n",
       "      <td>LBKNLAGY</td>\n",
       "      <td>G5FQGCG4</td>\n",
       "      <td>6wlsi25fe</td>\n",
       "      <td>success</td>\n",
       "      <td>fingerprint</td>\n",
       "      <td>US</td>\n",
       "    </tr>\n",
       "    <tr>\n",
       "      <th>...</th>\n",
       "      <td>...</td>\n",
       "      <td>...</td>\n",
       "      <td>...</td>\n",
       "      <td>...</td>\n",
       "      <td>...</td>\n",
       "      <td>...</td>\n",
       "      <td>...</td>\n",
       "    </tr>\n",
       "    <tr>\n",
       "      <th>49995</th>\n",
       "      <td>2027-09-15T03:00:00.000000</td>\n",
       "      <td>KG9Q2HOG</td>\n",
       "      <td>100SRMR8</td>\n",
       "      <td>jmh949xce</td>\n",
       "      <td>failure</td>\n",
       "      <td>sms</td>\n",
       "      <td>JP</td>\n",
       "    </tr>\n",
       "    <tr>\n",
       "      <th>49996</th>\n",
       "      <td>2027-09-15T04:00:00.000000</td>\n",
       "      <td>R64NBTSD</td>\n",
       "      <td>8P4NX6SL</td>\n",
       "      <td>6vv2hdh4j</td>\n",
       "      <td>success</td>\n",
       "      <td>fingerprint</td>\n",
       "      <td>JP</td>\n",
       "    </tr>\n",
       "    <tr>\n",
       "      <th>49997</th>\n",
       "      <td>2027-09-15T05:00:00.000000</td>\n",
       "      <td>ULOXIXP1</td>\n",
       "      <td>MCNYY9W8</td>\n",
       "      <td>41sw3r9tn</td>\n",
       "      <td>success</td>\n",
       "      <td>sms</td>\n",
       "      <td>US</td>\n",
       "    </tr>\n",
       "    <tr>\n",
       "      <th>49998</th>\n",
       "      <td>2027-09-15T06:00:00.000000</td>\n",
       "      <td>QK4YHC53</td>\n",
       "      <td>XCWEI7HM</td>\n",
       "      <td>v0ye3gb5i</td>\n",
       "      <td>failure</td>\n",
       "      <td>sms</td>\n",
       "      <td>US</td>\n",
       "    </tr>\n",
       "    <tr>\n",
       "      <th>49999</th>\n",
       "      <td>2027-09-15T07:00:00.000000</td>\n",
       "      <td>C9P04QTG</td>\n",
       "      <td>1X3HAIL1</td>\n",
       "      <td>dm9ol43hv</td>\n",
       "      <td>success</td>\n",
       "      <td>push</td>\n",
       "      <td>GB</td>\n",
       "    </tr>\n",
       "  </tbody>\n",
       "</table>\n",
       "<p>50000 rows × 7 columns</p>\n",
       "</div>"
      ],
      "text/plain": [
       "                             time        id device_id    user_id   result   \n",
       "0      2022-01-01T00:00:00.000000  2S3QG0RI  1LJHRFGQ  h8bjzx051  success  \\\n",
       "1      2022-01-01T01:00:00.000000  F7UM6L7G  0X5KWKBI  yquf02g05  success   \n",
       "2      2022-01-01T02:00:00.000000  3YDFTQZ1  CZ6I214Z  axgrj7naq  success   \n",
       "3      2022-01-01T03:00:00.000000  VD4MV9UK  4XUNKHKY  pxxk389fw  failure   \n",
       "4      2022-01-01T04:00:00.000000  LBKNLAGY  G5FQGCG4  6wlsi25fe  success   \n",
       "...                           ...       ...       ...        ...      ...   \n",
       "49995  2027-09-15T03:00:00.000000  KG9Q2HOG  100SRMR8  jmh949xce  failure   \n",
       "49996  2027-09-15T04:00:00.000000  R64NBTSD  8P4NX6SL  6vv2hdh4j  success   \n",
       "49997  2027-09-15T05:00:00.000000  ULOXIXP1  MCNYY9W8  41sw3r9tn  success   \n",
       "49998  2027-09-15T06:00:00.000000  QK4YHC53  XCWEI7HM  v0ye3gb5i  failure   \n",
       "49999  2027-09-15T07:00:00.000000  C9P04QTG  1X3HAIL1  dm9ol43hv  success   \n",
       "\n",
       "            method country  \n",
       "0              sms      US  \n",
       "1              sms      DE  \n",
       "2              sms      JP  \n",
       "3             push      DE  \n",
       "4      fingerprint      US  \n",
       "...            ...     ...  \n",
       "49995          sms      JP  \n",
       "49996  fingerprint      JP  \n",
       "49997          sms      US  \n",
       "49998          sms      US  \n",
       "49999         push      GB  \n",
       "\n",
       "[50000 rows x 7 columns]"
      ]
     },
     "execution_count": 411,
     "metadata": {},
     "output_type": "execute_result"
    }
   ],
   "source": [
    "auth"
   ]
  },
  {
   "cell_type": "code",
   "execution_count": 412,
   "id": "f9e678cd",
   "metadata": {},
   "outputs": [
    {
     "data": {
      "text/plain": [
       "Index(['device_id', 'type', 'os'], dtype='object')"
      ]
     },
     "execution_count": 412,
     "metadata": {},
     "output_type": "execute_result"
    }
   ],
   "source": [
    "devices.columns"
   ]
  },
  {
   "cell_type": "code",
   "execution_count": 413,
   "id": "f77dbf62",
   "metadata": {},
   "outputs": [
    {
     "data": {
      "text/plain": [
       "Index(['organization_id', 'start_date', 'type'], dtype='object')"
      ]
     },
     "execution_count": 413,
     "metadata": {},
     "output_type": "execute_result"
    }
   ],
   "source": [
    "orgs.columns"
   ]
  },
  {
   "cell_type": "code",
   "execution_count": 414,
   "id": "aef7b5af",
   "metadata": {},
   "outputs": [
    {
     "data": {
      "text/plain": [
       "Index(['user_id', 'organization_id', 'start_date'], dtype='object')"
      ]
     },
     "execution_count": 414,
     "metadata": {},
     "output_type": "execute_result"
    }
   ],
   "source": [
    "users.columns"
   ]
  },
  {
   "cell_type": "code",
   "execution_count": 415,
   "id": "b520c092",
   "metadata": {},
   "outputs": [],
   "source": [
    "mdf = auth.merge(users, on='user_id').merge(devices, on='device_id').merge(orgs, on='organization_id')"
   ]
  },
  {
   "cell_type": "code",
   "execution_count": 416,
   "id": "cd517628",
   "metadata": {},
   "outputs": [
    {
     "name": "stdout",
     "output_type": "stream",
     "text": [
      "<class 'pandas.core.frame.DataFrame'>\n",
      "RangeIndex: 44427 entries, 0 to 44426\n",
      "Data columns (total 13 columns):\n",
      " #   Column           Non-Null Count  Dtype \n",
      "---  ------           --------------  ----- \n",
      " 0   time             44427 non-null  object\n",
      " 1   id               44427 non-null  object\n",
      " 2   device_id        44427 non-null  object\n",
      " 3   user_id          44427 non-null  object\n",
      " 4   result           44427 non-null  object\n",
      " 5   method           44427 non-null  object\n",
      " 6   country          44427 non-null  object\n",
      " 7   organization_id  44427 non-null  object\n",
      " 8   start_date_x     44427 non-null  object\n",
      " 9   type_x           44427 non-null  object\n",
      " 10  os               44427 non-null  object\n",
      " 11  start_date_y     44427 non-null  object\n",
      " 12  type_y           44427 non-null  object\n",
      "dtypes: object(13)\n",
      "memory usage: 4.4+ MB\n"
     ]
    }
   ],
   "source": [
    "mdf.info()"
   ]
  },
  {
   "cell_type": "code",
   "execution_count": 417,
   "id": "8d1b8de8",
   "metadata": {},
   "outputs": [
    {
     "data": {
      "text/html": [
       "<div>\n",
       "<style scoped>\n",
       "    .dataframe tbody tr th:only-of-type {\n",
       "        vertical-align: middle;\n",
       "    }\n",
       "\n",
       "    .dataframe tbody tr th {\n",
       "        vertical-align: top;\n",
       "    }\n",
       "\n",
       "    .dataframe thead th {\n",
       "        text-align: right;\n",
       "    }\n",
       "</style>\n",
       "<table border=\"1\" class=\"dataframe\">\n",
       "  <thead>\n",
       "    <tr style=\"text-align: right;\">\n",
       "      <th></th>\n",
       "      <th>time</th>\n",
       "      <th>id</th>\n",
       "      <th>device_id</th>\n",
       "      <th>user_id</th>\n",
       "      <th>result</th>\n",
       "      <th>method</th>\n",
       "      <th>country</th>\n",
       "      <th>organization_id</th>\n",
       "      <th>start_date_x</th>\n",
       "      <th>type_x</th>\n",
       "      <th>os</th>\n",
       "      <th>start_date_y</th>\n",
       "      <th>type_y</th>\n",
       "    </tr>\n",
       "  </thead>\n",
       "  <tbody>\n",
       "    <tr>\n",
       "      <th>0</th>\n",
       "      <td>2022-01-01T00:00:00.000000</td>\n",
       "      <td>2S3QG0RI</td>\n",
       "      <td>1LJHRFGQ</td>\n",
       "      <td>h8bjzx051</td>\n",
       "      <td>success</td>\n",
       "      <td>sms</td>\n",
       "      <td>US</td>\n",
       "      <td>29R3UR</td>\n",
       "      <td>2022-10-27</td>\n",
       "      <td>mobile</td>\n",
       "      <td>ios</td>\n",
       "      <td>2022-03-25</td>\n",
       "      <td>llc</td>\n",
       "    </tr>\n",
       "    <tr>\n",
       "      <th>1</th>\n",
       "      <td>2022-01-05T20:00:00.000000</td>\n",
       "      <td>5EA6BHF8</td>\n",
       "      <td>LKXMMRUE</td>\n",
       "      <td>h8bjzx051</td>\n",
       "      <td>success</td>\n",
       "      <td>push</td>\n",
       "      <td>US</td>\n",
       "      <td>29R3UR</td>\n",
       "      <td>2022-10-27</td>\n",
       "      <td>mobile</td>\n",
       "      <td>android</td>\n",
       "      <td>2022-03-25</td>\n",
       "      <td>llc</td>\n",
       "    </tr>\n",
       "    <tr>\n",
       "      <th>2</th>\n",
       "      <td>2022-08-03T09:00:00.000000</td>\n",
       "      <td>QNS48UFW</td>\n",
       "      <td>LKXMMRUE</td>\n",
       "      <td>h8bjzx051</td>\n",
       "      <td>success</td>\n",
       "      <td>sms</td>\n",
       "      <td>US</td>\n",
       "      <td>29R3UR</td>\n",
       "      <td>2022-10-27</td>\n",
       "      <td>mobile</td>\n",
       "      <td>android</td>\n",
       "      <td>2022-03-25</td>\n",
       "      <td>llc</td>\n",
       "    </tr>\n",
       "    <tr>\n",
       "      <th>3</th>\n",
       "      <td>2023-12-01T21:00:00.000000</td>\n",
       "      <td>2VFRIPRC</td>\n",
       "      <td>LKXMMRUE</td>\n",
       "      <td>95w2cxsmw</td>\n",
       "      <td>failure</td>\n",
       "      <td>sms</td>\n",
       "      <td>JP</td>\n",
       "      <td>29R3UR</td>\n",
       "      <td>2022-11-26</td>\n",
       "      <td>mobile</td>\n",
       "      <td>android</td>\n",
       "      <td>2022-03-25</td>\n",
       "      <td>llc</td>\n",
       "    </tr>\n",
       "    <tr>\n",
       "      <th>4</th>\n",
       "      <td>2022-01-08T15:00:00.000000</td>\n",
       "      <td>RPSH8VOW</td>\n",
       "      <td>80GLY5SQ</td>\n",
       "      <td>h8bjzx051</td>\n",
       "      <td>success</td>\n",
       "      <td>sms</td>\n",
       "      <td>US</td>\n",
       "      <td>29R3UR</td>\n",
       "      <td>2022-10-27</td>\n",
       "      <td>laptop</td>\n",
       "      <td>macos</td>\n",
       "      <td>2022-03-25</td>\n",
       "      <td>llc</td>\n",
       "    </tr>\n",
       "  </tbody>\n",
       "</table>\n",
       "</div>"
      ],
      "text/plain": [
       "                         time        id device_id    user_id   result method   \n",
       "0  2022-01-01T00:00:00.000000  2S3QG0RI  1LJHRFGQ  h8bjzx051  success    sms  \\\n",
       "1  2022-01-05T20:00:00.000000  5EA6BHF8  LKXMMRUE  h8bjzx051  success   push   \n",
       "2  2022-08-03T09:00:00.000000  QNS48UFW  LKXMMRUE  h8bjzx051  success    sms   \n",
       "3  2023-12-01T21:00:00.000000  2VFRIPRC  LKXMMRUE  95w2cxsmw  failure    sms   \n",
       "4  2022-01-08T15:00:00.000000  RPSH8VOW  80GLY5SQ  h8bjzx051  success    sms   \n",
       "\n",
       "  country organization_id start_date_x  type_x       os start_date_y type_y  \n",
       "0      US          29R3UR   2022-10-27  mobile      ios   2022-03-25    llc  \n",
       "1      US          29R3UR   2022-10-27  mobile  android   2022-03-25    llc  \n",
       "2      US          29R3UR   2022-10-27  mobile  android   2022-03-25    llc  \n",
       "3      JP          29R3UR   2022-11-26  mobile  android   2022-03-25    llc  \n",
       "4      US          29R3UR   2022-10-27  laptop    macos   2022-03-25    llc  "
      ]
     },
     "execution_count": 417,
     "metadata": {},
     "output_type": "execute_result"
    }
   ],
   "source": [
    "mdf.head()"
   ]
  },
  {
   "cell_type": "code",
   "execution_count": 418,
   "id": "e07fc792",
   "metadata": {},
   "outputs": [],
   "source": [
    "# Convert 'time' column to datetime\n",
    "mdf['time'] = pd.to_datetime(mdf['time'])\n",
    "\n",
    "# Extract date features\n",
    "mdf['Year'] = mdf['time'].dt.year\n",
    "mdf['Month'] = mdf['time'].dt.month\n",
    "mdf['Day'] = mdf['time'].dt.day\n",
    "mdf['Time'] = mdf['time'].dt.time  # Extracts the time component\n",
    "\n",
    "# Drop the original 'time' column if needed\n",
    "mdf.drop(columns=['time'], inplace=True)"
   ]
  },
  {
   "cell_type": "code",
   "execution_count": 419,
   "id": "75b03eca",
   "metadata": {},
   "outputs": [],
   "source": [
    "# Apply one-hot encoding to 'method', 'country', and 'os' columns\n",
    "mdf = pd.get_dummies(mdf, columns=['method', 'country', 'os', 'type_x', 'type_y', 'result'], drop_first=True)"
   ]
  },
  {
   "cell_type": "code",
   "execution_count": 420,
   "id": "e083ac48",
   "metadata": {},
   "outputs": [
    {
     "data": {
      "text/plain": [
       "Index(['id', 'device_id', 'user_id', 'organization_id', 'start_date_x',\n",
       "       'start_date_y', 'Year', 'Month', 'Day', 'Time', 'method_push',\n",
       "       'method_sms', 'country_DE', 'country_GB', 'country_JP', 'country_US',\n",
       "       'os_ios', 'os_linux', 'os_macos', 'os_windows', 'type_x_laptop',\n",
       "       'type_x_mobile', 'type_y_llc', 'type_y_nonprofit', 'result_success'],\n",
       "      dtype='object')"
      ]
     },
     "execution_count": 420,
     "metadata": {},
     "output_type": "execute_result"
    }
   ],
   "source": [
    "mdf.columns"
   ]
  },
  {
   "cell_type": "code",
   "execution_count": 421,
   "id": "10505309",
   "metadata": {},
   "outputs": [],
   "source": [
    "from sklearn.preprocessing import LabelEncoder\n",
    "# Initialize label encoders\n",
    "label_encoders = {}\n",
    "\n",
    "# Apply label encoding to 'id', 'device_id', 'user_id', and 'organization_id'\n",
    "categorical_columns = ['id', 'device_id', 'user_id', 'organization_id']\n",
    "for column in categorical_columns:\n",
    "    le = LabelEncoder()\n",
    "    mdf[column] = le.fit_transform(mdf[column])\n",
    "    label_encoders[column] = le"
   ]
  },
  {
   "cell_type": "code",
   "execution_count": 422,
   "id": "11ec98d5",
   "metadata": {},
   "outputs": [
    {
     "data": {
      "text/html": [
       "<div>\n",
       "<style scoped>\n",
       "    .dataframe tbody tr th:only-of-type {\n",
       "        vertical-align: middle;\n",
       "    }\n",
       "\n",
       "    .dataframe tbody tr th {\n",
       "        vertical-align: top;\n",
       "    }\n",
       "\n",
       "    .dataframe thead th {\n",
       "        text-align: right;\n",
       "    }\n",
       "</style>\n",
       "<table border=\"1\" class=\"dataframe\">\n",
       "  <thead>\n",
       "    <tr style=\"text-align: right;\">\n",
       "      <th></th>\n",
       "      <th>id</th>\n",
       "      <th>device_id</th>\n",
       "      <th>user_id</th>\n",
       "      <th>organization_id</th>\n",
       "      <th>start_date_x</th>\n",
       "      <th>start_date_y</th>\n",
       "      <th>Year</th>\n",
       "      <th>Month</th>\n",
       "      <th>Day</th>\n",
       "      <th>Time</th>\n",
       "      <th>...</th>\n",
       "      <th>country_US</th>\n",
       "      <th>os_ios</th>\n",
       "      <th>os_linux</th>\n",
       "      <th>os_macos</th>\n",
       "      <th>os_windows</th>\n",
       "      <th>type_x_laptop</th>\n",
       "      <th>type_x_mobile</th>\n",
       "      <th>type_y_llc</th>\n",
       "      <th>type_y_nonprofit</th>\n",
       "      <th>result_success</th>\n",
       "    </tr>\n",
       "  </thead>\n",
       "  <tbody>\n",
       "    <tr>\n",
       "      <th>0</th>\n",
       "      <td>3441</td>\n",
       "      <td>23</td>\n",
       "      <td>98</td>\n",
       "      <td>0</td>\n",
       "      <td>2022-10-27</td>\n",
       "      <td>2022-03-25</td>\n",
       "      <td>2022</td>\n",
       "      <td>1</td>\n",
       "      <td>1</td>\n",
       "      <td>00:00:00</td>\n",
       "      <td>...</td>\n",
       "      <td>True</td>\n",
       "      <td>True</td>\n",
       "      <td>False</td>\n",
       "      <td>False</td>\n",
       "      <td>False</td>\n",
       "      <td>False</td>\n",
       "      <td>True</td>\n",
       "      <td>True</td>\n",
       "      <td>False</td>\n",
       "      <td>True</td>\n",
       "    </tr>\n",
       "    <tr>\n",
       "      <th>1</th>\n",
       "      <td>6680</td>\n",
       "      <td>267</td>\n",
       "      <td>98</td>\n",
       "      <td>0</td>\n",
       "      <td>2022-10-27</td>\n",
       "      <td>2022-03-25</td>\n",
       "      <td>2022</td>\n",
       "      <td>1</td>\n",
       "      <td>5</td>\n",
       "      <td>20:00:00</td>\n",
       "      <td>...</td>\n",
       "      <td>True</td>\n",
       "      <td>False</td>\n",
       "      <td>False</td>\n",
       "      <td>False</td>\n",
       "      <td>False</td>\n",
       "      <td>False</td>\n",
       "      <td>True</td>\n",
       "      <td>True</td>\n",
       "      <td>False</td>\n",
       "      <td>True</td>\n",
       "    </tr>\n",
       "    <tr>\n",
       "      <th>2</th>\n",
       "      <td>32783</td>\n",
       "      <td>267</td>\n",
       "      <td>98</td>\n",
       "      <td>0</td>\n",
       "      <td>2022-10-27</td>\n",
       "      <td>2022-03-25</td>\n",
       "      <td>2022</td>\n",
       "      <td>8</td>\n",
       "      <td>3</td>\n",
       "      <td>09:00:00</td>\n",
       "      <td>...</td>\n",
       "      <td>True</td>\n",
       "      <td>False</td>\n",
       "      <td>False</td>\n",
       "      <td>False</td>\n",
       "      <td>False</td>\n",
       "      <td>False</td>\n",
       "      <td>True</td>\n",
       "      <td>True</td>\n",
       "      <td>False</td>\n",
       "      <td>True</td>\n",
       "    </tr>\n",
       "    <tr>\n",
       "      <th>3</th>\n",
       "      <td>3554</td>\n",
       "      <td>267</td>\n",
       "      <td>55</td>\n",
       "      <td>0</td>\n",
       "      <td>2022-11-26</td>\n",
       "      <td>2022-03-25</td>\n",
       "      <td>2023</td>\n",
       "      <td>12</td>\n",
       "      <td>1</td>\n",
       "      <td>21:00:00</td>\n",
       "      <td>...</td>\n",
       "      <td>False</td>\n",
       "      <td>False</td>\n",
       "      <td>False</td>\n",
       "      <td>False</td>\n",
       "      <td>False</td>\n",
       "      <td>False</td>\n",
       "      <td>True</td>\n",
       "      <td>True</td>\n",
       "      <td>False</td>\n",
       "      <td>False</td>\n",
       "    </tr>\n",
       "    <tr>\n",
       "      <th>4</th>\n",
       "      <td>34081</td>\n",
       "      <td>97</td>\n",
       "      <td>98</td>\n",
       "      <td>0</td>\n",
       "      <td>2022-10-27</td>\n",
       "      <td>2022-03-25</td>\n",
       "      <td>2022</td>\n",
       "      <td>1</td>\n",
       "      <td>8</td>\n",
       "      <td>15:00:00</td>\n",
       "      <td>...</td>\n",
       "      <td>True</td>\n",
       "      <td>False</td>\n",
       "      <td>False</td>\n",
       "      <td>True</td>\n",
       "      <td>False</td>\n",
       "      <td>True</td>\n",
       "      <td>False</td>\n",
       "      <td>True</td>\n",
       "      <td>False</td>\n",
       "      <td>True</td>\n",
       "    </tr>\n",
       "  </tbody>\n",
       "</table>\n",
       "<p>5 rows × 25 columns</p>\n",
       "</div>"
      ],
      "text/plain": [
       "      id  device_id  user_id  organization_id start_date_x start_date_y  Year   \n",
       "0   3441         23       98                0   2022-10-27   2022-03-25  2022  \\\n",
       "1   6680        267       98                0   2022-10-27   2022-03-25  2022   \n",
       "2  32783        267       98                0   2022-10-27   2022-03-25  2022   \n",
       "3   3554        267       55                0   2022-11-26   2022-03-25  2023   \n",
       "4  34081         97       98                0   2022-10-27   2022-03-25  2022   \n",
       "\n",
       "   Month  Day      Time  ...  country_US  os_ios  os_linux  os_macos   \n",
       "0      1    1  00:00:00  ...        True    True     False     False  \\\n",
       "1      1    5  20:00:00  ...        True   False     False     False   \n",
       "2      8    3  09:00:00  ...        True   False     False     False   \n",
       "3     12    1  21:00:00  ...       False   False     False     False   \n",
       "4      1    8  15:00:00  ...        True   False     False      True   \n",
       "\n",
       "   os_windows  type_x_laptop  type_x_mobile  type_y_llc  type_y_nonprofit   \n",
       "0       False          False           True        True             False  \\\n",
       "1       False          False           True        True             False   \n",
       "2       False          False           True        True             False   \n",
       "3       False          False           True        True             False   \n",
       "4       False           True          False        True             False   \n",
       "\n",
       "   result_success  \n",
       "0            True  \n",
       "1            True  \n",
       "2            True  \n",
       "3           False  \n",
       "4            True  \n",
       "\n",
       "[5 rows x 25 columns]"
      ]
     },
     "execution_count": 422,
     "metadata": {},
     "output_type": "execute_result"
    }
   ],
   "source": [
    "mdf.head()"
   ]
  },
  {
   "cell_type": "code",
   "execution_count": 423,
   "id": "7a8717bc",
   "metadata": {},
   "outputs": [],
   "source": [
    "mdf.drop(columns=['start_date_x', 'start_date_y', 'Time'], inplace= True)"
   ]
  },
  {
   "cell_type": "code",
   "execution_count": 424,
   "id": "6512f7ae",
   "metadata": {},
   "outputs": [
    {
     "data": {
      "text/html": [
       "<div>\n",
       "<style scoped>\n",
       "    .dataframe tbody tr th:only-of-type {\n",
       "        vertical-align: middle;\n",
       "    }\n",
       "\n",
       "    .dataframe tbody tr th {\n",
       "        vertical-align: top;\n",
       "    }\n",
       "\n",
       "    .dataframe thead th {\n",
       "        text-align: right;\n",
       "    }\n",
       "</style>\n",
       "<table border=\"1\" class=\"dataframe\">\n",
       "  <thead>\n",
       "    <tr style=\"text-align: right;\">\n",
       "      <th></th>\n",
       "      <th>id</th>\n",
       "      <th>device_id</th>\n",
       "      <th>user_id</th>\n",
       "      <th>organization_id</th>\n",
       "      <th>Year</th>\n",
       "      <th>Month</th>\n",
       "      <th>Day</th>\n",
       "      <th>method_push</th>\n",
       "      <th>method_sms</th>\n",
       "      <th>country_DE</th>\n",
       "      <th>...</th>\n",
       "      <th>country_US</th>\n",
       "      <th>os_ios</th>\n",
       "      <th>os_linux</th>\n",
       "      <th>os_macos</th>\n",
       "      <th>os_windows</th>\n",
       "      <th>type_x_laptop</th>\n",
       "      <th>type_x_mobile</th>\n",
       "      <th>type_y_llc</th>\n",
       "      <th>type_y_nonprofit</th>\n",
       "      <th>result_success</th>\n",
       "    </tr>\n",
       "  </thead>\n",
       "  <tbody>\n",
       "    <tr>\n",
       "      <th>0</th>\n",
       "      <td>3441</td>\n",
       "      <td>23</td>\n",
       "      <td>98</td>\n",
       "      <td>0</td>\n",
       "      <td>2022</td>\n",
       "      <td>1</td>\n",
       "      <td>1</td>\n",
       "      <td>False</td>\n",
       "      <td>True</td>\n",
       "      <td>False</td>\n",
       "      <td>...</td>\n",
       "      <td>True</td>\n",
       "      <td>True</td>\n",
       "      <td>False</td>\n",
       "      <td>False</td>\n",
       "      <td>False</td>\n",
       "      <td>False</td>\n",
       "      <td>True</td>\n",
       "      <td>True</td>\n",
       "      <td>False</td>\n",
       "      <td>True</td>\n",
       "    </tr>\n",
       "    <tr>\n",
       "      <th>1</th>\n",
       "      <td>6680</td>\n",
       "      <td>267</td>\n",
       "      <td>98</td>\n",
       "      <td>0</td>\n",
       "      <td>2022</td>\n",
       "      <td>1</td>\n",
       "      <td>5</td>\n",
       "      <td>True</td>\n",
       "      <td>False</td>\n",
       "      <td>False</td>\n",
       "      <td>...</td>\n",
       "      <td>True</td>\n",
       "      <td>False</td>\n",
       "      <td>False</td>\n",
       "      <td>False</td>\n",
       "      <td>False</td>\n",
       "      <td>False</td>\n",
       "      <td>True</td>\n",
       "      <td>True</td>\n",
       "      <td>False</td>\n",
       "      <td>True</td>\n",
       "    </tr>\n",
       "    <tr>\n",
       "      <th>2</th>\n",
       "      <td>32783</td>\n",
       "      <td>267</td>\n",
       "      <td>98</td>\n",
       "      <td>0</td>\n",
       "      <td>2022</td>\n",
       "      <td>8</td>\n",
       "      <td>3</td>\n",
       "      <td>False</td>\n",
       "      <td>True</td>\n",
       "      <td>False</td>\n",
       "      <td>...</td>\n",
       "      <td>True</td>\n",
       "      <td>False</td>\n",
       "      <td>False</td>\n",
       "      <td>False</td>\n",
       "      <td>False</td>\n",
       "      <td>False</td>\n",
       "      <td>True</td>\n",
       "      <td>True</td>\n",
       "      <td>False</td>\n",
       "      <td>True</td>\n",
       "    </tr>\n",
       "    <tr>\n",
       "      <th>3</th>\n",
       "      <td>3554</td>\n",
       "      <td>267</td>\n",
       "      <td>55</td>\n",
       "      <td>0</td>\n",
       "      <td>2023</td>\n",
       "      <td>12</td>\n",
       "      <td>1</td>\n",
       "      <td>False</td>\n",
       "      <td>True</td>\n",
       "      <td>False</td>\n",
       "      <td>...</td>\n",
       "      <td>False</td>\n",
       "      <td>False</td>\n",
       "      <td>False</td>\n",
       "      <td>False</td>\n",
       "      <td>False</td>\n",
       "      <td>False</td>\n",
       "      <td>True</td>\n",
       "      <td>True</td>\n",
       "      <td>False</td>\n",
       "      <td>False</td>\n",
       "    </tr>\n",
       "    <tr>\n",
       "      <th>4</th>\n",
       "      <td>34081</td>\n",
       "      <td>97</td>\n",
       "      <td>98</td>\n",
       "      <td>0</td>\n",
       "      <td>2022</td>\n",
       "      <td>1</td>\n",
       "      <td>8</td>\n",
       "      <td>False</td>\n",
       "      <td>True</td>\n",
       "      <td>False</td>\n",
       "      <td>...</td>\n",
       "      <td>True</td>\n",
       "      <td>False</td>\n",
       "      <td>False</td>\n",
       "      <td>True</td>\n",
       "      <td>False</td>\n",
       "      <td>True</td>\n",
       "      <td>False</td>\n",
       "      <td>True</td>\n",
       "      <td>False</td>\n",
       "      <td>True</td>\n",
       "    </tr>\n",
       "    <tr>\n",
       "      <th>...</th>\n",
       "      <td>...</td>\n",
       "      <td>...</td>\n",
       "      <td>...</td>\n",
       "      <td>...</td>\n",
       "      <td>...</td>\n",
       "      <td>...</td>\n",
       "      <td>...</td>\n",
       "      <td>...</td>\n",
       "      <td>...</td>\n",
       "      <td>...</td>\n",
       "      <td>...</td>\n",
       "      <td>...</td>\n",
       "      <td>...</td>\n",
       "      <td>...</td>\n",
       "      <td>...</td>\n",
       "      <td>...</td>\n",
       "      <td>...</td>\n",
       "      <td>...</td>\n",
       "      <td>...</td>\n",
       "      <td>...</td>\n",
       "      <td>...</td>\n",
       "    </tr>\n",
       "    <tr>\n",
       "      <th>44422</th>\n",
       "      <td>7116</td>\n",
       "      <td>82</td>\n",
       "      <td>4</td>\n",
       "      <td>25</td>\n",
       "      <td>2027</td>\n",
       "      <td>3</td>\n",
       "      <td>14</td>\n",
       "      <td>False</td>\n",
       "      <td>True</td>\n",
       "      <td>False</td>\n",
       "      <td>...</td>\n",
       "      <td>True</td>\n",
       "      <td>False</td>\n",
       "      <td>False</td>\n",
       "      <td>False</td>\n",
       "      <td>True</td>\n",
       "      <td>True</td>\n",
       "      <td>False</td>\n",
       "      <td>True</td>\n",
       "      <td>False</td>\n",
       "      <td>True</td>\n",
       "    </tr>\n",
       "    <tr>\n",
       "      <th>44423</th>\n",
       "      <td>15879</td>\n",
       "      <td>16</td>\n",
       "      <td>4</td>\n",
       "      <td>25</td>\n",
       "      <td>2026</td>\n",
       "      <td>9</td>\n",
       "      <td>15</td>\n",
       "      <td>False</td>\n",
       "      <td>True</td>\n",
       "      <td>False</td>\n",
       "      <td>...</td>\n",
       "      <td>True</td>\n",
       "      <td>True</td>\n",
       "      <td>False</td>\n",
       "      <td>False</td>\n",
       "      <td>False</td>\n",
       "      <td>False</td>\n",
       "      <td>True</td>\n",
       "      <td>True</td>\n",
       "      <td>False</td>\n",
       "      <td>True</td>\n",
       "    </tr>\n",
       "    <tr>\n",
       "      <th>44424</th>\n",
       "      <td>15064</td>\n",
       "      <td>72</td>\n",
       "      <td>4</td>\n",
       "      <td>25</td>\n",
       "      <td>2027</td>\n",
       "      <td>2</td>\n",
       "      <td>25</td>\n",
       "      <td>False</td>\n",
       "      <td>True</td>\n",
       "      <td>False</td>\n",
       "      <td>...</td>\n",
       "      <td>False</td>\n",
       "      <td>False</td>\n",
       "      <td>True</td>\n",
       "      <td>False</td>\n",
       "      <td>False</td>\n",
       "      <td>True</td>\n",
       "      <td>False</td>\n",
       "      <td>True</td>\n",
       "      <td>False</td>\n",
       "      <td>True</td>\n",
       "    </tr>\n",
       "    <tr>\n",
       "      <th>44425</th>\n",
       "      <td>6205</td>\n",
       "      <td>328</td>\n",
       "      <td>4</td>\n",
       "      <td>25</td>\n",
       "      <td>2025</td>\n",
       "      <td>6</td>\n",
       "      <td>17</td>\n",
       "      <td>True</td>\n",
       "      <td>False</td>\n",
       "      <td>False</td>\n",
       "      <td>...</td>\n",
       "      <td>True</td>\n",
       "      <td>False</td>\n",
       "      <td>False</td>\n",
       "      <td>True</td>\n",
       "      <td>False</td>\n",
       "      <td>True</td>\n",
       "      <td>False</td>\n",
       "      <td>True</td>\n",
       "      <td>False</td>\n",
       "      <td>False</td>\n",
       "    </tr>\n",
       "    <tr>\n",
       "      <th>44426</th>\n",
       "      <td>1768</td>\n",
       "      <td>328</td>\n",
       "      <td>4</td>\n",
       "      <td>25</td>\n",
       "      <td>2026</td>\n",
       "      <td>12</td>\n",
       "      <td>27</td>\n",
       "      <td>True</td>\n",
       "      <td>False</td>\n",
       "      <td>False</td>\n",
       "      <td>...</td>\n",
       "      <td>False</td>\n",
       "      <td>False</td>\n",
       "      <td>False</td>\n",
       "      <td>True</td>\n",
       "      <td>False</td>\n",
       "      <td>True</td>\n",
       "      <td>False</td>\n",
       "      <td>True</td>\n",
       "      <td>False</td>\n",
       "      <td>True</td>\n",
       "    </tr>\n",
       "  </tbody>\n",
       "</table>\n",
       "<p>44427 rows × 22 columns</p>\n",
       "</div>"
      ],
      "text/plain": [
       "          id  device_id  user_id  organization_id  Year  Month  Day   \n",
       "0       3441         23       98                0  2022      1    1  \\\n",
       "1       6680        267       98                0  2022      1    5   \n",
       "2      32783        267       98                0  2022      8    3   \n",
       "3       3554        267       55                0  2023     12    1   \n",
       "4      34081         97       98                0  2022      1    8   \n",
       "...      ...        ...      ...              ...   ...    ...  ...   \n",
       "44422   7116         82        4               25  2027      3   14   \n",
       "44423  15879         16        4               25  2026      9   15   \n",
       "44424  15064         72        4               25  2027      2   25   \n",
       "44425   6205        328        4               25  2025      6   17   \n",
       "44426   1768        328        4               25  2026     12   27   \n",
       "\n",
       "       method_push  method_sms  country_DE  ...  country_US  os_ios  os_linux   \n",
       "0            False        True       False  ...        True    True     False  \\\n",
       "1             True       False       False  ...        True   False     False   \n",
       "2            False        True       False  ...        True   False     False   \n",
       "3            False        True       False  ...       False   False     False   \n",
       "4            False        True       False  ...        True   False     False   \n",
       "...            ...         ...         ...  ...         ...     ...       ...   \n",
       "44422        False        True       False  ...        True   False     False   \n",
       "44423        False        True       False  ...        True    True     False   \n",
       "44424        False        True       False  ...       False   False      True   \n",
       "44425         True       False       False  ...        True   False     False   \n",
       "44426         True       False       False  ...       False   False     False   \n",
       "\n",
       "       os_macos  os_windows  type_x_laptop  type_x_mobile  type_y_llc   \n",
       "0         False       False          False           True        True  \\\n",
       "1         False       False          False           True        True   \n",
       "2         False       False          False           True        True   \n",
       "3         False       False          False           True        True   \n",
       "4          True       False           True          False        True   \n",
       "...         ...         ...            ...            ...         ...   \n",
       "44422     False        True           True          False        True   \n",
       "44423     False       False          False           True        True   \n",
       "44424     False       False           True          False        True   \n",
       "44425      True       False           True          False        True   \n",
       "44426      True       False           True          False        True   \n",
       "\n",
       "       type_y_nonprofit  result_success  \n",
       "0                 False            True  \n",
       "1                 False            True  \n",
       "2                 False            True  \n",
       "3                 False           False  \n",
       "4                 False            True  \n",
       "...                 ...             ...  \n",
       "44422             False            True  \n",
       "44423             False            True  \n",
       "44424             False            True  \n",
       "44425             False           False  \n",
       "44426             False            True  \n",
       "\n",
       "[44427 rows x 22 columns]"
      ]
     },
     "execution_count": 424,
     "metadata": {},
     "output_type": "execute_result"
    }
   ],
   "source": [
    "mdf"
   ]
  },
  {
   "cell_type": "code",
   "execution_count": 425,
   "id": "aa46d16e",
   "metadata": {},
   "outputs": [
    {
     "name": "stderr",
     "output_type": "stream",
     "text": [
      "/home/omkar/.local/lib/python3.10/site-packages/sklearn/base.py:439: UserWarning: X does not have valid feature names, but IsolationForest was fitted with feature names\n",
      "  warnings.warn(\n"
     ]
    }
   ],
   "source": [
    "from sklearn.ensemble import IsolationForest\n",
    "# Create the model\n",
    "isolation_forest = IsolationForest(contamination=0.05)  # Contamination is the expected proportion of anomalies\n",
    "\n",
    "# Fit the model\n",
    "isolation_forest.fit(mdf)\n",
    "# Predict anomalies (outliers)\n",
    "predictions = isolation_forest.predict(mdf)\n",
    "\n",
    "# The predictions array will contain 1 for normal instances and -1 for anomalies\n"
   ]
  },
  {
   "cell_type": "code",
   "execution_count": 426,
   "id": "b10757c1",
   "metadata": {},
   "outputs": [
    {
     "name": "stdout",
     "output_type": "stream",
     "text": [
      "Original User IDs with anomalies:\n",
      "['h8bjzx051' '4df38bz6u' '95w2cxsmw' ... '0xeakun4p' '0xeakun4p'\n",
      " '0xeakun4p']\n"
     ]
    }
   ],
   "source": [
    "# Assuming label_encoders contains the label encoders for 'user_id' and other categorical columns\n",
    "\n",
    "# Get the indices of anomalies (-1 predictions)\n",
    "anomaly_indices = [i for i, pred in enumerate(predictions) if pred == -1]\n",
    "\n",
    "# Get the user IDs associated with anomalies\n",
    "anomalous_user_ids = mdf.loc[anomaly_indices, 'user_id']\n",
    "\n",
    "# Inverse transform the label-encoded user IDs\n",
    "original_user_ids = label_encoders['user_id'].inverse_transform(anomalous_user_ids)\n",
    "\n",
    "print(\"Original User IDs with anomalies:\")\n",
    "print(original_user_ids)\n"
   ]
  },
  {
   "cell_type": "code",
   "execution_count": 456,
   "id": "2693cf34",
   "metadata": {},
   "outputs": [
    {
     "data": {
      "text/plain": [
       "2222"
      ]
     },
     "execution_count": 456,
     "metadata": {},
     "output_type": "execute_result"
    }
   ],
   "source": [
    "len(original_user_ids)"
   ]
  },
  {
   "cell_type": "code",
   "execution_count": 427,
   "id": "9ee24651",
   "metadata": {},
   "outputs": [
    {
     "data": {
      "text/plain": [
       "array([ 1,  1,  1, ...,  1,  1, -1])"
      ]
     },
     "execution_count": 427,
     "metadata": {},
     "output_type": "execute_result"
    }
   ],
   "source": [
    "predictions"
   ]
  },
  {
   "cell_type": "code",
   "execution_count": 428,
   "id": "fef53751",
   "metadata": {},
   "outputs": [
    {
     "data": {
      "text/plain": [
       "False"
      ]
     },
     "execution_count": 428,
     "metadata": {},
     "output_type": "execute_result"
    }
   ],
   "source": [
    "auth.duplicated().any()"
   ]
  },
  {
   "cell_type": "code",
   "execution_count": 429,
   "id": "ce986356",
   "metadata": {},
   "outputs": [
    {
     "data": {
      "text/plain": [
       "array(['success', 'failure'], dtype=object)"
      ]
     },
     "execution_count": 429,
     "metadata": {},
     "output_type": "execute_result"
    }
   ],
   "source": [
    "auth['result'].unique()"
   ]
  },
  {
   "cell_type": "code",
   "execution_count": 430,
   "id": "e4bed704",
   "metadata": {},
   "outputs": [
    {
     "data": {
      "text/plain": [
       "array(['sms', 'push', 'fingerprint'], dtype=object)"
      ]
     },
     "execution_count": 430,
     "metadata": {},
     "output_type": "execute_result"
    }
   ],
   "source": [
    "auth['method'].unique()"
   ]
  },
  {
   "cell_type": "code",
   "execution_count": 431,
   "id": "c4c56cf9",
   "metadata": {},
   "outputs": [
    {
     "data": {
      "text/plain": [
       "array(['US', 'DE', 'JP', 'CH', 'GB'], dtype=object)"
      ]
     },
     "execution_count": 431,
     "metadata": {},
     "output_type": "execute_result"
    }
   ],
   "source": [
    "auth['country'].unique()"
   ]
  },
  {
   "cell_type": "code",
   "execution_count": 432,
   "id": "f4a5c48e-2603-4375-abe5-6e4604725853",
   "metadata": {},
   "outputs": [
    {
     "data": {
      "text/plain": [
       "result\n",
       "success    29972\n",
       "failure    20028\n",
       "Name: count, dtype: int64"
      ]
     },
     "execution_count": 432,
     "metadata": {},
     "output_type": "execute_result"
    }
   ],
   "source": [
    "auth['result'].value_counts()"
   ]
  },
  {
   "cell_type": "code",
   "execution_count": 433,
   "id": "aacaefc4-8d19-4f70-8da0-49e96bc60191",
   "metadata": {},
   "outputs": [
    {
     "data": {
      "text/plain": [
       "method\n",
       "sms            27537\n",
       "fingerprint    12539\n",
       "push            9924\n",
       "Name: count, dtype: int64"
      ]
     },
     "execution_count": 433,
     "metadata": {},
     "output_type": "execute_result"
    }
   ],
   "source": [
    "auth['method'].value_counts()"
   ]
  },
  {
   "cell_type": "code",
   "execution_count": 434,
   "id": "75de9b97-49d2-4bef-81ec-2306635708a2",
   "metadata": {},
   "outputs": [
    {
     "data": {
      "text/plain": [
       "country\n",
       "US    27533\n",
       "DE     9888\n",
       "JP     5072\n",
       "GB     4943\n",
       "CH     2564\n",
       "Name: count, dtype: int64"
      ]
     },
     "execution_count": 434,
     "metadata": {},
     "output_type": "execute_result"
    }
   ],
   "source": [
    "auth['country'].value_counts()"
   ]
  },
  {
   "cell_type": "code",
   "execution_count": 435,
   "id": "519270fd-42ca-4896-bd7c-0357ad442c55",
   "metadata": {},
   "outputs": [
    {
     "data": {
      "text/plain": [
       "\"label_encoder=LabelEncoder()\\nauth['result_']=label_encoder.fit_transform(auth['result'])\\nauth['method_']=label_encoder.fit_transform(auth['method'])\\nauth['country_']=label_encoder.fit_transform(auth['country'])\""
      ]
     },
     "execution_count": 435,
     "metadata": {},
     "output_type": "execute_result"
    }
   ],
   "source": [
    "'''label_encoder=LabelEncoder()\n",
    "auth['result_']=label_encoder.fit_transform(auth['result'])\n",
    "auth['method_']=label_encoder.fit_transform(auth['method'])\n",
    "auth['country_']=label_encoder.fit_transform(auth['country'])'''"
   ]
  },
  {
   "cell_type": "code",
   "execution_count": 436,
   "id": "36924611-f4c5-4314-9265-008c56671839",
   "metadata": {},
   "outputs": [
    {
     "data": {
      "text/html": [
       "<div>\n",
       "<style scoped>\n",
       "    .dataframe tbody tr th:only-of-type {\n",
       "        vertical-align: middle;\n",
       "    }\n",
       "\n",
       "    .dataframe tbody tr th {\n",
       "        vertical-align: top;\n",
       "    }\n",
       "\n",
       "    .dataframe thead th {\n",
       "        text-align: right;\n",
       "    }\n",
       "</style>\n",
       "<table border=\"1\" class=\"dataframe\">\n",
       "  <thead>\n",
       "    <tr style=\"text-align: right;\">\n",
       "      <th></th>\n",
       "      <th>time</th>\n",
       "      <th>id</th>\n",
       "      <th>device_id</th>\n",
       "      <th>user_id</th>\n",
       "      <th>result</th>\n",
       "      <th>method</th>\n",
       "      <th>country</th>\n",
       "    </tr>\n",
       "  </thead>\n",
       "  <tbody>\n",
       "    <tr>\n",
       "      <th>0</th>\n",
       "      <td>2022-01-01T00:00:00.000000</td>\n",
       "      <td>2S3QG0RI</td>\n",
       "      <td>1LJHRFGQ</td>\n",
       "      <td>h8bjzx051</td>\n",
       "      <td>success</td>\n",
       "      <td>sms</td>\n",
       "      <td>US</td>\n",
       "    </tr>\n",
       "    <tr>\n",
       "      <th>1</th>\n",
       "      <td>2022-01-01T01:00:00.000000</td>\n",
       "      <td>F7UM6L7G</td>\n",
       "      <td>0X5KWKBI</td>\n",
       "      <td>yquf02g05</td>\n",
       "      <td>success</td>\n",
       "      <td>sms</td>\n",
       "      <td>DE</td>\n",
       "    </tr>\n",
       "    <tr>\n",
       "      <th>2</th>\n",
       "      <td>2022-01-01T02:00:00.000000</td>\n",
       "      <td>3YDFTQZ1</td>\n",
       "      <td>CZ6I214Z</td>\n",
       "      <td>axgrj7naq</td>\n",
       "      <td>success</td>\n",
       "      <td>sms</td>\n",
       "      <td>JP</td>\n",
       "    </tr>\n",
       "    <tr>\n",
       "      <th>3</th>\n",
       "      <td>2022-01-01T03:00:00.000000</td>\n",
       "      <td>VD4MV9UK</td>\n",
       "      <td>4XUNKHKY</td>\n",
       "      <td>pxxk389fw</td>\n",
       "      <td>failure</td>\n",
       "      <td>push</td>\n",
       "      <td>DE</td>\n",
       "    </tr>\n",
       "    <tr>\n",
       "      <th>4</th>\n",
       "      <td>2022-01-01T04:00:00.000000</td>\n",
       "      <td>LBKNLAGY</td>\n",
       "      <td>G5FQGCG4</td>\n",
       "      <td>6wlsi25fe</td>\n",
       "      <td>success</td>\n",
       "      <td>fingerprint</td>\n",
       "      <td>US</td>\n",
       "    </tr>\n",
       "  </tbody>\n",
       "</table>\n",
       "</div>"
      ],
      "text/plain": [
       "                         time        id device_id    user_id   result   \n",
       "0  2022-01-01T00:00:00.000000  2S3QG0RI  1LJHRFGQ  h8bjzx051  success  \\\n",
       "1  2022-01-01T01:00:00.000000  F7UM6L7G  0X5KWKBI  yquf02g05  success   \n",
       "2  2022-01-01T02:00:00.000000  3YDFTQZ1  CZ6I214Z  axgrj7naq  success   \n",
       "3  2022-01-01T03:00:00.000000  VD4MV9UK  4XUNKHKY  pxxk389fw  failure   \n",
       "4  2022-01-01T04:00:00.000000  LBKNLAGY  G5FQGCG4  6wlsi25fe  success   \n",
       "\n",
       "        method country  \n",
       "0          sms      US  \n",
       "1          sms      DE  \n",
       "2          sms      JP  \n",
       "3         push      DE  \n",
       "4  fingerprint      US  "
      ]
     },
     "execution_count": 436,
     "metadata": {},
     "output_type": "execute_result"
    }
   ],
   "source": [
    "auth.head()"
   ]
  },
  {
   "cell_type": "markdown",
   "id": "7a63aacc",
   "metadata": {},
   "source": [
    "# Users Info\n",
    "user_id : User ID (PK)\n",
    "\n",
    "organization_id : organization ID (FK)\n",
    "\n",
    "start_date : date the organization joined"
   ]
  },
  {
   "cell_type": "code",
   "execution_count": 437,
   "id": "33795f32",
   "metadata": {},
   "outputs": [
    {
     "data": {
      "text/html": [
       "<div>\n",
       "<style scoped>\n",
       "    .dataframe tbody tr th:only-of-type {\n",
       "        vertical-align: middle;\n",
       "    }\n",
       "\n",
       "    .dataframe tbody tr th {\n",
       "        vertical-align: top;\n",
       "    }\n",
       "\n",
       "    .dataframe thead th {\n",
       "        text-align: right;\n",
       "    }\n",
       "</style>\n",
       "<table border=\"1\" class=\"dataframe\">\n",
       "  <thead>\n",
       "    <tr style=\"text-align: right;\">\n",
       "      <th></th>\n",
       "      <th>user_id</th>\n",
       "      <th>organization_id</th>\n",
       "      <th>start_date</th>\n",
       "    </tr>\n",
       "  </thead>\n",
       "  <tbody>\n",
       "    <tr>\n",
       "      <th>0</th>\n",
       "      <td>b716bizfd</td>\n",
       "      <td>O943NR</td>\n",
       "      <td>2022-12-18</td>\n",
       "    </tr>\n",
       "    <tr>\n",
       "      <th>1</th>\n",
       "      <td>70gdkxccc</td>\n",
       "      <td>CTKX9E</td>\n",
       "      <td>2020-09-21</td>\n",
       "    </tr>\n",
       "    <tr>\n",
       "      <th>2</th>\n",
       "      <td>k3f47fr6e</td>\n",
       "      <td>IIA9QG</td>\n",
       "      <td>2021-03-07</td>\n",
       "    </tr>\n",
       "    <tr>\n",
       "      <th>3</th>\n",
       "      <td>73v9elx98</td>\n",
       "      <td>L3C8TJ</td>\n",
       "      <td>2022-09-02</td>\n",
       "    </tr>\n",
       "    <tr>\n",
       "      <th>4</th>\n",
       "      <td>25wvuz5lj</td>\n",
       "      <td>6EZAOI</td>\n",
       "      <td>2022-12-27</td>\n",
       "    </tr>\n",
       "    <tr>\n",
       "      <th>...</th>\n",
       "      <td>...</td>\n",
       "      <td>...</td>\n",
       "      <td>...</td>\n",
       "    </tr>\n",
       "    <tr>\n",
       "      <th>195</th>\n",
       "      <td>rgavn0zdx</td>\n",
       "      <td>JGO77O</td>\n",
       "      <td>2021-08-09</td>\n",
       "    </tr>\n",
       "    <tr>\n",
       "      <th>196</th>\n",
       "      <td>2j1kkezv0</td>\n",
       "      <td>L3C8TJ</td>\n",
       "      <td>2022-08-31</td>\n",
       "    </tr>\n",
       "    <tr>\n",
       "      <th>197</th>\n",
       "      <td>3jg3nnu61</td>\n",
       "      <td>A079YU</td>\n",
       "      <td>2022-03-02</td>\n",
       "    </tr>\n",
       "    <tr>\n",
       "      <th>198</th>\n",
       "      <td>q1x6xmmb6</td>\n",
       "      <td>TOZ9LO</td>\n",
       "      <td>2022-09-28</td>\n",
       "    </tr>\n",
       "    <tr>\n",
       "      <th>199</th>\n",
       "      <td>i77t1nc17</td>\n",
       "      <td>ZE43FN</td>\n",
       "      <td>2022-07-08</td>\n",
       "    </tr>\n",
       "  </tbody>\n",
       "</table>\n",
       "<p>200 rows × 3 columns</p>\n",
       "</div>"
      ],
      "text/plain": [
       "       user_id organization_id  start_date\n",
       "0    b716bizfd          O943NR  2022-12-18\n",
       "1    70gdkxccc          CTKX9E  2020-09-21\n",
       "2    k3f47fr6e          IIA9QG  2021-03-07\n",
       "3    73v9elx98          L3C8TJ  2022-09-02\n",
       "4    25wvuz5lj          6EZAOI  2022-12-27\n",
       "..         ...             ...         ...\n",
       "195  rgavn0zdx          JGO77O  2021-08-09\n",
       "196  2j1kkezv0          L3C8TJ  2022-08-31\n",
       "197  3jg3nnu61          A079YU  2022-03-02\n",
       "198  q1x6xmmb6          TOZ9LO  2022-09-28\n",
       "199  i77t1nc17          ZE43FN  2022-07-08\n",
       "\n",
       "[200 rows x 3 columns]"
      ]
     },
     "execution_count": 437,
     "metadata": {},
     "output_type": "execute_result"
    }
   ],
   "source": [
    "users"
   ]
  },
  {
   "cell_type": "markdown",
   "id": "24908208",
   "metadata": {},
   "source": [
    "no missing value present"
   ]
  },
  {
   "cell_type": "code",
   "execution_count": 438,
   "id": "9de9e254",
   "metadata": {},
   "outputs": [
    {
     "data": {
      "text/plain": [
       "user_id            0\n",
       "organization_id    0\n",
       "start_date         0\n",
       "dtype: int64"
      ]
     },
     "execution_count": 438,
     "metadata": {},
     "output_type": "execute_result"
    }
   ],
   "source": [
    "users.isnull().sum()"
   ]
  },
  {
   "cell_type": "markdown",
   "id": "f2e5768c",
   "metadata": {},
   "source": [
    "no duplicate present"
   ]
  },
  {
   "cell_type": "code",
   "execution_count": 439,
   "id": "99e514f1",
   "metadata": {},
   "outputs": [
    {
     "data": {
      "text/plain": [
       "False"
      ]
     },
     "execution_count": 439,
     "metadata": {},
     "output_type": "execute_result"
    }
   ],
   "source": [
    "users.duplicated().any()"
   ]
  },
  {
   "cell_type": "markdown",
   "id": "a139e98b",
   "metadata": {},
   "source": [
    "# organization information\n",
    "\n",
    "organization_id : organization ID (PK)\n",
    "\n",
    "type : type of organization (corporation, llc, nonprofit, etc.)\n",
    "\n",
    "start_date : date the organization joined"
   ]
  },
  {
   "cell_type": "code",
   "execution_count": 440,
   "id": "98200d7b",
   "metadata": {},
   "outputs": [
    {
     "data": {
      "text/html": [
       "<div>\n",
       "<style scoped>\n",
       "    .dataframe tbody tr th:only-of-type {\n",
       "        vertical-align: middle;\n",
       "    }\n",
       "\n",
       "    .dataframe tbody tr th {\n",
       "        vertical-align: top;\n",
       "    }\n",
       "\n",
       "    .dataframe thead th {\n",
       "        text-align: right;\n",
       "    }\n",
       "</style>\n",
       "<table border=\"1\" class=\"dataframe\">\n",
       "  <thead>\n",
       "    <tr style=\"text-align: right;\">\n",
       "      <th></th>\n",
       "      <th>organization_id</th>\n",
       "      <th>start_date</th>\n",
       "      <th>type</th>\n",
       "    </tr>\n",
       "  </thead>\n",
       "  <tbody>\n",
       "    <tr>\n",
       "      <th>0</th>\n",
       "      <td>9B2ZSN</td>\n",
       "      <td>2021-05-30</td>\n",
       "      <td>nonprofit</td>\n",
       "    </tr>\n",
       "    <tr>\n",
       "      <th>1</th>\n",
       "      <td>A079YU</td>\n",
       "      <td>2022-01-05</td>\n",
       "      <td>corporation</td>\n",
       "    </tr>\n",
       "    <tr>\n",
       "      <th>2</th>\n",
       "      <td>YJQKA0</td>\n",
       "      <td>2021-01-30</td>\n",
       "      <td>corporation</td>\n",
       "    </tr>\n",
       "    <tr>\n",
       "      <th>3</th>\n",
       "      <td>QFALP3</td>\n",
       "      <td>2020-07-19</td>\n",
       "      <td>nonprofit</td>\n",
       "    </tr>\n",
       "    <tr>\n",
       "      <th>4</th>\n",
       "      <td>MMEM26</td>\n",
       "      <td>2022-06-17</td>\n",
       "      <td>corporation</td>\n",
       "    </tr>\n",
       "  </tbody>\n",
       "</table>\n",
       "</div>"
      ],
      "text/plain": [
       "  organization_id  start_date         type\n",
       "0          9B2ZSN  2021-05-30    nonprofit\n",
       "1          A079YU  2022-01-05  corporation\n",
       "2          YJQKA0  2021-01-30  corporation\n",
       "3          QFALP3  2020-07-19    nonprofit\n",
       "4          MMEM26  2022-06-17  corporation"
      ]
     },
     "execution_count": 440,
     "metadata": {},
     "output_type": "execute_result"
    }
   ],
   "source": [
    "orgs.head()"
   ]
  },
  {
   "cell_type": "markdown",
   "id": "d59a21ed",
   "metadata": {},
   "source": [
    "no duplicate and null value present"
   ]
  },
  {
   "cell_type": "code",
   "execution_count": 441,
   "id": "af42a79f",
   "metadata": {},
   "outputs": [
    {
     "data": {
      "text/plain": [
       "organization_id    0\n",
       "start_date         0\n",
       "type               0\n",
       "dtype: int64"
      ]
     },
     "execution_count": 441,
     "metadata": {},
     "output_type": "execute_result"
    }
   ],
   "source": [
    "orgs.isnull().sum()"
   ]
  },
  {
   "cell_type": "code",
   "execution_count": 442,
   "id": "453fb4e5",
   "metadata": {},
   "outputs": [
    {
     "data": {
      "text/plain": [
       "False"
      ]
     },
     "execution_count": 442,
     "metadata": {},
     "output_type": "execute_result"
    }
   ],
   "source": [
    "orgs.duplicated().any()"
   ]
  },
  {
   "cell_type": "code",
   "execution_count": 443,
   "id": "18782e9c",
   "metadata": {},
   "outputs": [
    {
     "data": {
      "text/html": [
       "<div>\n",
       "<style scoped>\n",
       "    .dataframe tbody tr th:only-of-type {\n",
       "        vertical-align: middle;\n",
       "    }\n",
       "\n",
       "    .dataframe tbody tr th {\n",
       "        vertical-align: top;\n",
       "    }\n",
       "\n",
       "    .dataframe thead th {\n",
       "        text-align: right;\n",
       "    }\n",
       "</style>\n",
       "<table border=\"1\" class=\"dataframe\">\n",
       "  <thead>\n",
       "    <tr style=\"text-align: right;\">\n",
       "      <th></th>\n",
       "      <th>device_id</th>\n",
       "      <th>type</th>\n",
       "      <th>os</th>\n",
       "    </tr>\n",
       "  </thead>\n",
       "  <tbody>\n",
       "    <tr>\n",
       "      <th>0</th>\n",
       "      <td>T9Y4L3GN</td>\n",
       "      <td>desktop</td>\n",
       "      <td>linux</td>\n",
       "    </tr>\n",
       "    <tr>\n",
       "      <th>1</th>\n",
       "      <td>HJNUR4IE</td>\n",
       "      <td>laptop</td>\n",
       "      <td>linux</td>\n",
       "    </tr>\n",
       "    <tr>\n",
       "      <th>2</th>\n",
       "      <td>EWDXU1I8</td>\n",
       "      <td>mobile</td>\n",
       "      <td>android</td>\n",
       "    </tr>\n",
       "    <tr>\n",
       "      <th>3</th>\n",
       "      <td>WB5L1NBI</td>\n",
       "      <td>mobile</td>\n",
       "      <td>ios</td>\n",
       "    </tr>\n",
       "    <tr>\n",
       "      <th>4</th>\n",
       "      <td>YMO16TKN</td>\n",
       "      <td>mobile</td>\n",
       "      <td>android</td>\n",
       "    </tr>\n",
       "    <tr>\n",
       "      <th>...</th>\n",
       "      <td>...</td>\n",
       "      <td>...</td>\n",
       "      <td>...</td>\n",
       "    </tr>\n",
       "    <tr>\n",
       "      <th>494</th>\n",
       "      <td>7X4L39WD</td>\n",
       "      <td>laptop</td>\n",
       "      <td>macos</td>\n",
       "    </tr>\n",
       "    <tr>\n",
       "      <th>495</th>\n",
       "      <td>64J7XNZT</td>\n",
       "      <td>mobile</td>\n",
       "      <td>ios</td>\n",
       "    </tr>\n",
       "    <tr>\n",
       "      <th>496</th>\n",
       "      <td>A9NMTSGO</td>\n",
       "      <td>mobile</td>\n",
       "      <td>android</td>\n",
       "    </tr>\n",
       "    <tr>\n",
       "      <th>498</th>\n",
       "      <td>9JE5CZZE</td>\n",
       "      <td>mobile</td>\n",
       "      <td>android</td>\n",
       "    </tr>\n",
       "    <tr>\n",
       "      <th>499</th>\n",
       "      <td>8V5K5CMK</td>\n",
       "      <td>mobile</td>\n",
       "      <td>android</td>\n",
       "    </tr>\n",
       "  </tbody>\n",
       "</table>\n",
       "<p>443 rows × 3 columns</p>\n",
       "</div>"
      ],
      "text/plain": [
       "    device_id     type       os\n",
       "0    T9Y4L3GN  desktop    linux\n",
       "1    HJNUR4IE   laptop    linux\n",
       "2    EWDXU1I8   mobile  android\n",
       "3    WB5L1NBI   mobile      ios\n",
       "4    YMO16TKN   mobile  android\n",
       "..        ...      ...      ...\n",
       "494  7X4L39WD   laptop    macos\n",
       "495  64J7XNZT   mobile      ios\n",
       "496  A9NMTSGO   mobile  android\n",
       "498  9JE5CZZE   mobile  android\n",
       "499  8V5K5CMK   mobile  android\n",
       "\n",
       "[443 rows x 3 columns]"
      ]
     },
     "execution_count": 443,
     "metadata": {},
     "output_type": "execute_result"
    }
   ],
   "source": [
    "devices"
   ]
  },
  {
   "cell_type": "code",
   "execution_count": 444,
   "id": "e8eebaba",
   "metadata": {},
   "outputs": [
    {
     "data": {
      "text/html": [
       "<div>\n",
       "<style scoped>\n",
       "    .dataframe tbody tr th:only-of-type {\n",
       "        vertical-align: middle;\n",
       "    }\n",
       "\n",
       "    .dataframe tbody tr th {\n",
       "        vertical-align: top;\n",
       "    }\n",
       "\n",
       "    .dataframe thead th {\n",
       "        text-align: right;\n",
       "    }\n",
       "</style>\n",
       "<table border=\"1\" class=\"dataframe\">\n",
       "  <thead>\n",
       "    <tr style=\"text-align: right;\">\n",
       "      <th></th>\n",
       "      <th>user_id</th>\n",
       "      <th>organization_id</th>\n",
       "      <th>start_date</th>\n",
       "    </tr>\n",
       "  </thead>\n",
       "  <tbody>\n",
       "    <tr>\n",
       "      <th>0</th>\n",
       "      <td>b716bizfd</td>\n",
       "      <td>O943NR</td>\n",
       "      <td>2022-12-18</td>\n",
       "    </tr>\n",
       "    <tr>\n",
       "      <th>1</th>\n",
       "      <td>70gdkxccc</td>\n",
       "      <td>CTKX9E</td>\n",
       "      <td>2020-09-21</td>\n",
       "    </tr>\n",
       "    <tr>\n",
       "      <th>2</th>\n",
       "      <td>k3f47fr6e</td>\n",
       "      <td>IIA9QG</td>\n",
       "      <td>2021-03-07</td>\n",
       "    </tr>\n",
       "    <tr>\n",
       "      <th>3</th>\n",
       "      <td>73v9elx98</td>\n",
       "      <td>L3C8TJ</td>\n",
       "      <td>2022-09-02</td>\n",
       "    </tr>\n",
       "    <tr>\n",
       "      <th>4</th>\n",
       "      <td>25wvuz5lj</td>\n",
       "      <td>6EZAOI</td>\n",
       "      <td>2022-12-27</td>\n",
       "    </tr>\n",
       "    <tr>\n",
       "      <th>...</th>\n",
       "      <td>...</td>\n",
       "      <td>...</td>\n",
       "      <td>...</td>\n",
       "    </tr>\n",
       "    <tr>\n",
       "      <th>195</th>\n",
       "      <td>rgavn0zdx</td>\n",
       "      <td>JGO77O</td>\n",
       "      <td>2021-08-09</td>\n",
       "    </tr>\n",
       "    <tr>\n",
       "      <th>196</th>\n",
       "      <td>2j1kkezv0</td>\n",
       "      <td>L3C8TJ</td>\n",
       "      <td>2022-08-31</td>\n",
       "    </tr>\n",
       "    <tr>\n",
       "      <th>197</th>\n",
       "      <td>3jg3nnu61</td>\n",
       "      <td>A079YU</td>\n",
       "      <td>2022-03-02</td>\n",
       "    </tr>\n",
       "    <tr>\n",
       "      <th>198</th>\n",
       "      <td>q1x6xmmb6</td>\n",
       "      <td>TOZ9LO</td>\n",
       "      <td>2022-09-28</td>\n",
       "    </tr>\n",
       "    <tr>\n",
       "      <th>199</th>\n",
       "      <td>i77t1nc17</td>\n",
       "      <td>ZE43FN</td>\n",
       "      <td>2022-07-08</td>\n",
       "    </tr>\n",
       "  </tbody>\n",
       "</table>\n",
       "<p>200 rows × 3 columns</p>\n",
       "</div>"
      ],
      "text/plain": [
       "       user_id organization_id  start_date\n",
       "0    b716bizfd          O943NR  2022-12-18\n",
       "1    70gdkxccc          CTKX9E  2020-09-21\n",
       "2    k3f47fr6e          IIA9QG  2021-03-07\n",
       "3    73v9elx98          L3C8TJ  2022-09-02\n",
       "4    25wvuz5lj          6EZAOI  2022-12-27\n",
       "..         ...             ...         ...\n",
       "195  rgavn0zdx          JGO77O  2021-08-09\n",
       "196  2j1kkezv0          L3C8TJ  2022-08-31\n",
       "197  3jg3nnu61          A079YU  2022-03-02\n",
       "198  q1x6xmmb6          TOZ9LO  2022-09-28\n",
       "199  i77t1nc17          ZE43FN  2022-07-08\n",
       "\n",
       "[200 rows x 3 columns]"
      ]
     },
     "execution_count": 444,
     "metadata": {},
     "output_type": "execute_result"
    }
   ],
   "source": [
    "users"
   ]
  },
  {
   "cell_type": "code",
   "execution_count": 445,
   "id": "40c73f4c",
   "metadata": {},
   "outputs": [
    {
     "data": {
      "text/html": [
       "<div>\n",
       "<style scoped>\n",
       "    .dataframe tbody tr th:only-of-type {\n",
       "        vertical-align: middle;\n",
       "    }\n",
       "\n",
       "    .dataframe tbody tr th {\n",
       "        vertical-align: top;\n",
       "    }\n",
       "\n",
       "    .dataframe thead th {\n",
       "        text-align: right;\n",
       "    }\n",
       "</style>\n",
       "<table border=\"1\" class=\"dataframe\">\n",
       "  <thead>\n",
       "    <tr style=\"text-align: right;\">\n",
       "      <th></th>\n",
       "      <th>organization_id</th>\n",
       "      <th>start_date</th>\n",
       "      <th>type</th>\n",
       "    </tr>\n",
       "  </thead>\n",
       "  <tbody>\n",
       "    <tr>\n",
       "      <th>0</th>\n",
       "      <td>9B2ZSN</td>\n",
       "      <td>2021-05-30</td>\n",
       "      <td>nonprofit</td>\n",
       "    </tr>\n",
       "    <tr>\n",
       "      <th>1</th>\n",
       "      <td>A079YU</td>\n",
       "      <td>2022-01-05</td>\n",
       "      <td>corporation</td>\n",
       "    </tr>\n",
       "    <tr>\n",
       "      <th>2</th>\n",
       "      <td>YJQKA0</td>\n",
       "      <td>2021-01-30</td>\n",
       "      <td>corporation</td>\n",
       "    </tr>\n",
       "    <tr>\n",
       "      <th>3</th>\n",
       "      <td>QFALP3</td>\n",
       "      <td>2020-07-19</td>\n",
       "      <td>nonprofit</td>\n",
       "    </tr>\n",
       "    <tr>\n",
       "      <th>4</th>\n",
       "      <td>MMEM26</td>\n",
       "      <td>2022-06-17</td>\n",
       "      <td>corporation</td>\n",
       "    </tr>\n",
       "    <tr>\n",
       "      <th>5</th>\n",
       "      <td>9H0IZE</td>\n",
       "      <td>2021-11-29</td>\n",
       "      <td>corporation</td>\n",
       "    </tr>\n",
       "    <tr>\n",
       "      <th>6</th>\n",
       "      <td>N6EKP0</td>\n",
       "      <td>2022-05-07</td>\n",
       "      <td>corporation</td>\n",
       "    </tr>\n",
       "    <tr>\n",
       "      <th>7</th>\n",
       "      <td>IIA9QG</td>\n",
       "      <td>2020-06-09</td>\n",
       "      <td>corporation</td>\n",
       "    </tr>\n",
       "    <tr>\n",
       "      <th>8</th>\n",
       "      <td>29R3UR</td>\n",
       "      <td>2022-03-25</td>\n",
       "      <td>llc</td>\n",
       "    </tr>\n",
       "    <tr>\n",
       "      <th>9</th>\n",
       "      <td>SRF85Q</td>\n",
       "      <td>2022-07-19</td>\n",
       "      <td>llc</td>\n",
       "    </tr>\n",
       "    <tr>\n",
       "      <th>10</th>\n",
       "      <td>D2O6W9</td>\n",
       "      <td>2020-09-22</td>\n",
       "      <td>corporation</td>\n",
       "    </tr>\n",
       "    <tr>\n",
       "      <th>11</th>\n",
       "      <td>OGRLOY</td>\n",
       "      <td>2021-09-25</td>\n",
       "      <td>llc</td>\n",
       "    </tr>\n",
       "    <tr>\n",
       "      <th>12</th>\n",
       "      <td>O9THFK</td>\n",
       "      <td>2021-07-03</td>\n",
       "      <td>nonprofit</td>\n",
       "    </tr>\n",
       "    <tr>\n",
       "      <th>13</th>\n",
       "      <td>XYMU3F</td>\n",
       "      <td>2021-10-05</td>\n",
       "      <td>nonprofit</td>\n",
       "    </tr>\n",
       "    <tr>\n",
       "      <th>14</th>\n",
       "      <td>DGBROW</td>\n",
       "      <td>2020-06-01</td>\n",
       "      <td>corporation</td>\n",
       "    </tr>\n",
       "    <tr>\n",
       "      <th>15</th>\n",
       "      <td>KWLA18</td>\n",
       "      <td>2022-12-08</td>\n",
       "      <td>llc</td>\n",
       "    </tr>\n",
       "    <tr>\n",
       "      <th>16</th>\n",
       "      <td>JGO77O</td>\n",
       "      <td>2020-06-26</td>\n",
       "      <td>corporation</td>\n",
       "    </tr>\n",
       "    <tr>\n",
       "      <th>17</th>\n",
       "      <td>TNI3MF</td>\n",
       "      <td>2022-11-04</td>\n",
       "      <td>llc</td>\n",
       "    </tr>\n",
       "    <tr>\n",
       "      <th>18</th>\n",
       "      <td>87H7O9</td>\n",
       "      <td>2022-10-20</td>\n",
       "      <td>corporation</td>\n",
       "    </tr>\n",
       "    <tr>\n",
       "      <th>19</th>\n",
       "      <td>LG582M</td>\n",
       "      <td>2022-02-08</td>\n",
       "      <td>llc</td>\n",
       "    </tr>\n",
       "    <tr>\n",
       "      <th>20</th>\n",
       "      <td>7DYL5H</td>\n",
       "      <td>2021-01-03</td>\n",
       "      <td>nonprofit</td>\n",
       "    </tr>\n",
       "    <tr>\n",
       "      <th>21</th>\n",
       "      <td>Z6Y3V6</td>\n",
       "      <td>2022-08-05</td>\n",
       "      <td>llc</td>\n",
       "    </tr>\n",
       "    <tr>\n",
       "      <th>22</th>\n",
       "      <td>O943NR</td>\n",
       "      <td>2020-09-16</td>\n",
       "      <td>llc</td>\n",
       "    </tr>\n",
       "    <tr>\n",
       "      <th>23</th>\n",
       "      <td>OVP8I6</td>\n",
       "      <td>2021-05-07</td>\n",
       "      <td>corporation</td>\n",
       "    </tr>\n",
       "    <tr>\n",
       "      <th>24</th>\n",
       "      <td>MD9M9N</td>\n",
       "      <td>2022-06-17</td>\n",
       "      <td>llc</td>\n",
       "    </tr>\n",
       "    <tr>\n",
       "      <th>25</th>\n",
       "      <td>3APGR4</td>\n",
       "      <td>2020-09-11</td>\n",
       "      <td>llc</td>\n",
       "    </tr>\n",
       "    <tr>\n",
       "      <th>26</th>\n",
       "      <td>64GOBR</td>\n",
       "      <td>2020-09-22</td>\n",
       "      <td>nonprofit</td>\n",
       "    </tr>\n",
       "    <tr>\n",
       "      <th>27</th>\n",
       "      <td>Z0704I</td>\n",
       "      <td>2020-01-02</td>\n",
       "      <td>corporation</td>\n",
       "    </tr>\n",
       "    <tr>\n",
       "      <th>28</th>\n",
       "      <td>7G20QP</td>\n",
       "      <td>2020-04-03</td>\n",
       "      <td>corporation</td>\n",
       "    </tr>\n",
       "    <tr>\n",
       "      <th>29</th>\n",
       "      <td>F23UCZ</td>\n",
       "      <td>2020-06-24</td>\n",
       "      <td>corporation</td>\n",
       "    </tr>\n",
       "    <tr>\n",
       "      <th>30</th>\n",
       "      <td>HPJ3ZR</td>\n",
       "      <td>2020-12-30</td>\n",
       "      <td>corporation</td>\n",
       "    </tr>\n",
       "    <tr>\n",
       "      <th>31</th>\n",
       "      <td>4B4DNV</td>\n",
       "      <td>2021-09-30</td>\n",
       "      <td>nonprofit</td>\n",
       "    </tr>\n",
       "    <tr>\n",
       "      <th>32</th>\n",
       "      <td>TBK82P</td>\n",
       "      <td>2021-03-01</td>\n",
       "      <td>nonprofit</td>\n",
       "    </tr>\n",
       "    <tr>\n",
       "      <th>33</th>\n",
       "      <td>VKORMV</td>\n",
       "      <td>2020-07-23</td>\n",
       "      <td>corporation</td>\n",
       "    </tr>\n",
       "    <tr>\n",
       "      <th>34</th>\n",
       "      <td>6EZAOI</td>\n",
       "      <td>2022-12-25</td>\n",
       "      <td>corporation</td>\n",
       "    </tr>\n",
       "    <tr>\n",
       "      <th>35</th>\n",
       "      <td>TOZ9LO</td>\n",
       "      <td>2021-08-04</td>\n",
       "      <td>corporation</td>\n",
       "    </tr>\n",
       "    <tr>\n",
       "      <th>36</th>\n",
       "      <td>V9PEZ8</td>\n",
       "      <td>2022-04-12</td>\n",
       "      <td>corporation</td>\n",
       "    </tr>\n",
       "    <tr>\n",
       "      <th>37</th>\n",
       "      <td>WFW2WO</td>\n",
       "      <td>2020-05-26</td>\n",
       "      <td>nonprofit</td>\n",
       "    </tr>\n",
       "    <tr>\n",
       "      <th>38</th>\n",
       "      <td>RQJJWB</td>\n",
       "      <td>2022-03-09</td>\n",
       "      <td>llc</td>\n",
       "    </tr>\n",
       "    <tr>\n",
       "      <th>39</th>\n",
       "      <td>BMAHQR</td>\n",
       "      <td>2021-08-13</td>\n",
       "      <td>corporation</td>\n",
       "    </tr>\n",
       "    <tr>\n",
       "      <th>40</th>\n",
       "      <td>68ALR8</td>\n",
       "      <td>2020-01-16</td>\n",
       "      <td>corporation</td>\n",
       "    </tr>\n",
       "    <tr>\n",
       "      <th>41</th>\n",
       "      <td>D2XJ5P</td>\n",
       "      <td>2022-05-29</td>\n",
       "      <td>corporation</td>\n",
       "    </tr>\n",
       "    <tr>\n",
       "      <th>42</th>\n",
       "      <td>L61B6K</td>\n",
       "      <td>2021-07-15</td>\n",
       "      <td>corporation</td>\n",
       "    </tr>\n",
       "    <tr>\n",
       "      <th>43</th>\n",
       "      <td>ZE43FN</td>\n",
       "      <td>2020-02-22</td>\n",
       "      <td>nonprofit</td>\n",
       "    </tr>\n",
       "    <tr>\n",
       "      <th>44</th>\n",
       "      <td>JLXV09</td>\n",
       "      <td>2021-03-02</td>\n",
       "      <td>nonprofit</td>\n",
       "    </tr>\n",
       "    <tr>\n",
       "      <th>45</th>\n",
       "      <td>4C7DC6</td>\n",
       "      <td>2022-06-01</td>\n",
       "      <td>corporation</td>\n",
       "    </tr>\n",
       "    <tr>\n",
       "      <th>46</th>\n",
       "      <td>IWHSHT</td>\n",
       "      <td>2022-05-28</td>\n",
       "      <td>corporation</td>\n",
       "    </tr>\n",
       "    <tr>\n",
       "      <th>47</th>\n",
       "      <td>IYZEX4</td>\n",
       "      <td>2020-10-10</td>\n",
       "      <td>llc</td>\n",
       "    </tr>\n",
       "    <tr>\n",
       "      <th>48</th>\n",
       "      <td>CTKX9E</td>\n",
       "      <td>2020-03-12</td>\n",
       "      <td>corporation</td>\n",
       "    </tr>\n",
       "    <tr>\n",
       "      <th>49</th>\n",
       "      <td>L3C8TJ</td>\n",
       "      <td>2022-03-31</td>\n",
       "      <td>nonprofit</td>\n",
       "    </tr>\n",
       "  </tbody>\n",
       "</table>\n",
       "</div>"
      ],
      "text/plain": [
       "   organization_id  start_date         type\n",
       "0           9B2ZSN  2021-05-30    nonprofit\n",
       "1           A079YU  2022-01-05  corporation\n",
       "2           YJQKA0  2021-01-30  corporation\n",
       "3           QFALP3  2020-07-19    nonprofit\n",
       "4           MMEM26  2022-06-17  corporation\n",
       "5           9H0IZE  2021-11-29  corporation\n",
       "6           N6EKP0  2022-05-07  corporation\n",
       "7           IIA9QG  2020-06-09  corporation\n",
       "8           29R3UR  2022-03-25          llc\n",
       "9           SRF85Q  2022-07-19          llc\n",
       "10          D2O6W9  2020-09-22  corporation\n",
       "11          OGRLOY  2021-09-25          llc\n",
       "12          O9THFK  2021-07-03    nonprofit\n",
       "13          XYMU3F  2021-10-05    nonprofit\n",
       "14          DGBROW  2020-06-01  corporation\n",
       "15          KWLA18  2022-12-08          llc\n",
       "16          JGO77O  2020-06-26  corporation\n",
       "17          TNI3MF  2022-11-04          llc\n",
       "18          87H7O9  2022-10-20  corporation\n",
       "19          LG582M  2022-02-08          llc\n",
       "20          7DYL5H  2021-01-03    nonprofit\n",
       "21          Z6Y3V6  2022-08-05          llc\n",
       "22          O943NR  2020-09-16          llc\n",
       "23          OVP8I6  2021-05-07  corporation\n",
       "24          MD9M9N  2022-06-17          llc\n",
       "25          3APGR4  2020-09-11          llc\n",
       "26          64GOBR  2020-09-22    nonprofit\n",
       "27          Z0704I  2020-01-02  corporation\n",
       "28          7G20QP  2020-04-03  corporation\n",
       "29          F23UCZ  2020-06-24  corporation\n",
       "30          HPJ3ZR  2020-12-30  corporation\n",
       "31          4B4DNV  2021-09-30    nonprofit\n",
       "32          TBK82P  2021-03-01    nonprofit\n",
       "33          VKORMV  2020-07-23  corporation\n",
       "34          6EZAOI  2022-12-25  corporation\n",
       "35          TOZ9LO  2021-08-04  corporation\n",
       "36          V9PEZ8  2022-04-12  corporation\n",
       "37          WFW2WO  2020-05-26    nonprofit\n",
       "38          RQJJWB  2022-03-09          llc\n",
       "39          BMAHQR  2021-08-13  corporation\n",
       "40          68ALR8  2020-01-16  corporation\n",
       "41          D2XJ5P  2022-05-29  corporation\n",
       "42          L61B6K  2021-07-15  corporation\n",
       "43          ZE43FN  2020-02-22    nonprofit\n",
       "44          JLXV09  2021-03-02    nonprofit\n",
       "45          4C7DC6  2022-06-01  corporation\n",
       "46          IWHSHT  2022-05-28  corporation\n",
       "47          IYZEX4  2020-10-10          llc\n",
       "48          CTKX9E  2020-03-12  corporation\n",
       "49          L3C8TJ  2022-03-31    nonprofit"
      ]
     },
     "execution_count": 445,
     "metadata": {},
     "output_type": "execute_result"
    }
   ],
   "source": [
    "orgs"
   ]
  },
  {
   "cell_type": "code",
   "execution_count": 446,
   "id": "7202f4b0",
   "metadata": {},
   "outputs": [
    {
     "data": {
      "text/html": [
       "<div>\n",
       "<style scoped>\n",
       "    .dataframe tbody tr th:only-of-type {\n",
       "        vertical-align: middle;\n",
       "    }\n",
       "\n",
       "    .dataframe tbody tr th {\n",
       "        vertical-align: top;\n",
       "    }\n",
       "\n",
       "    .dataframe thead th {\n",
       "        text-align: right;\n",
       "    }\n",
       "</style>\n",
       "<table border=\"1\" class=\"dataframe\">\n",
       "  <thead>\n",
       "    <tr style=\"text-align: right;\">\n",
       "      <th></th>\n",
       "      <th>time</th>\n",
       "      <th>id</th>\n",
       "      <th>device_id</th>\n",
       "      <th>user_id</th>\n",
       "      <th>result</th>\n",
       "      <th>method</th>\n",
       "      <th>country</th>\n",
       "    </tr>\n",
       "  </thead>\n",
       "  <tbody>\n",
       "    <tr>\n",
       "      <th>0</th>\n",
       "      <td>2022-01-01T00:00:00.000000</td>\n",
       "      <td>2S3QG0RI</td>\n",
       "      <td>1LJHRFGQ</td>\n",
       "      <td>h8bjzx051</td>\n",
       "      <td>success</td>\n",
       "      <td>sms</td>\n",
       "      <td>US</td>\n",
       "    </tr>\n",
       "    <tr>\n",
       "      <th>1</th>\n",
       "      <td>2022-01-01T01:00:00.000000</td>\n",
       "      <td>F7UM6L7G</td>\n",
       "      <td>0X5KWKBI</td>\n",
       "      <td>yquf02g05</td>\n",
       "      <td>success</td>\n",
       "      <td>sms</td>\n",
       "      <td>DE</td>\n",
       "    </tr>\n",
       "    <tr>\n",
       "      <th>2</th>\n",
       "      <td>2022-01-01T02:00:00.000000</td>\n",
       "      <td>3YDFTQZ1</td>\n",
       "      <td>CZ6I214Z</td>\n",
       "      <td>axgrj7naq</td>\n",
       "      <td>success</td>\n",
       "      <td>sms</td>\n",
       "      <td>JP</td>\n",
       "    </tr>\n",
       "    <tr>\n",
       "      <th>3</th>\n",
       "      <td>2022-01-01T03:00:00.000000</td>\n",
       "      <td>VD4MV9UK</td>\n",
       "      <td>4XUNKHKY</td>\n",
       "      <td>pxxk389fw</td>\n",
       "      <td>failure</td>\n",
       "      <td>push</td>\n",
       "      <td>DE</td>\n",
       "    </tr>\n",
       "    <tr>\n",
       "      <th>4</th>\n",
       "      <td>2022-01-01T04:00:00.000000</td>\n",
       "      <td>LBKNLAGY</td>\n",
       "      <td>G5FQGCG4</td>\n",
       "      <td>6wlsi25fe</td>\n",
       "      <td>success</td>\n",
       "      <td>fingerprint</td>\n",
       "      <td>US</td>\n",
       "    </tr>\n",
       "    <tr>\n",
       "      <th>...</th>\n",
       "      <td>...</td>\n",
       "      <td>...</td>\n",
       "      <td>...</td>\n",
       "      <td>...</td>\n",
       "      <td>...</td>\n",
       "      <td>...</td>\n",
       "      <td>...</td>\n",
       "    </tr>\n",
       "    <tr>\n",
       "      <th>49995</th>\n",
       "      <td>2027-09-15T03:00:00.000000</td>\n",
       "      <td>KG9Q2HOG</td>\n",
       "      <td>100SRMR8</td>\n",
       "      <td>jmh949xce</td>\n",
       "      <td>failure</td>\n",
       "      <td>sms</td>\n",
       "      <td>JP</td>\n",
       "    </tr>\n",
       "    <tr>\n",
       "      <th>49996</th>\n",
       "      <td>2027-09-15T04:00:00.000000</td>\n",
       "      <td>R64NBTSD</td>\n",
       "      <td>8P4NX6SL</td>\n",
       "      <td>6vv2hdh4j</td>\n",
       "      <td>success</td>\n",
       "      <td>fingerprint</td>\n",
       "      <td>JP</td>\n",
       "    </tr>\n",
       "    <tr>\n",
       "      <th>49997</th>\n",
       "      <td>2027-09-15T05:00:00.000000</td>\n",
       "      <td>ULOXIXP1</td>\n",
       "      <td>MCNYY9W8</td>\n",
       "      <td>41sw3r9tn</td>\n",
       "      <td>success</td>\n",
       "      <td>sms</td>\n",
       "      <td>US</td>\n",
       "    </tr>\n",
       "    <tr>\n",
       "      <th>49998</th>\n",
       "      <td>2027-09-15T06:00:00.000000</td>\n",
       "      <td>QK4YHC53</td>\n",
       "      <td>XCWEI7HM</td>\n",
       "      <td>v0ye3gb5i</td>\n",
       "      <td>failure</td>\n",
       "      <td>sms</td>\n",
       "      <td>US</td>\n",
       "    </tr>\n",
       "    <tr>\n",
       "      <th>49999</th>\n",
       "      <td>2027-09-15T07:00:00.000000</td>\n",
       "      <td>C9P04QTG</td>\n",
       "      <td>1X3HAIL1</td>\n",
       "      <td>dm9ol43hv</td>\n",
       "      <td>success</td>\n",
       "      <td>push</td>\n",
       "      <td>GB</td>\n",
       "    </tr>\n",
       "  </tbody>\n",
       "</table>\n",
       "<p>50000 rows × 7 columns</p>\n",
       "</div>"
      ],
      "text/plain": [
       "                             time        id device_id    user_id   result   \n",
       "0      2022-01-01T00:00:00.000000  2S3QG0RI  1LJHRFGQ  h8bjzx051  success  \\\n",
       "1      2022-01-01T01:00:00.000000  F7UM6L7G  0X5KWKBI  yquf02g05  success   \n",
       "2      2022-01-01T02:00:00.000000  3YDFTQZ1  CZ6I214Z  axgrj7naq  success   \n",
       "3      2022-01-01T03:00:00.000000  VD4MV9UK  4XUNKHKY  pxxk389fw  failure   \n",
       "4      2022-01-01T04:00:00.000000  LBKNLAGY  G5FQGCG4  6wlsi25fe  success   \n",
       "...                           ...       ...       ...        ...      ...   \n",
       "49995  2027-09-15T03:00:00.000000  KG9Q2HOG  100SRMR8  jmh949xce  failure   \n",
       "49996  2027-09-15T04:00:00.000000  R64NBTSD  8P4NX6SL  6vv2hdh4j  success   \n",
       "49997  2027-09-15T05:00:00.000000  ULOXIXP1  MCNYY9W8  41sw3r9tn  success   \n",
       "49998  2027-09-15T06:00:00.000000  QK4YHC53  XCWEI7HM  v0ye3gb5i  failure   \n",
       "49999  2027-09-15T07:00:00.000000  C9P04QTG  1X3HAIL1  dm9ol43hv  success   \n",
       "\n",
       "            method country  \n",
       "0              sms      US  \n",
       "1              sms      DE  \n",
       "2              sms      JP  \n",
       "3             push      DE  \n",
       "4      fingerprint      US  \n",
       "...            ...     ...  \n",
       "49995          sms      JP  \n",
       "49996  fingerprint      JP  \n",
       "49997          sms      US  \n",
       "49998          sms      US  \n",
       "49999         push      GB  \n",
       "\n",
       "[50000 rows x 7 columns]"
      ]
     },
     "execution_count": 446,
     "metadata": {},
     "output_type": "execute_result"
    }
   ],
   "source": [
    "auth"
   ]
  },
  {
   "cell_type": "code",
   "execution_count": 447,
   "id": "2b551acd",
   "metadata": {},
   "outputs": [],
   "source": [
    "merged_df = auth.merge(users, on='user_id').merge(devices, on='device_id').merge(orgs, on='organization_id')"
   ]
  },
  {
   "cell_type": "code",
   "execution_count": 448,
   "id": "89e1d1db",
   "metadata": {},
   "outputs": [
    {
     "name": "stdout",
     "output_type": "stream",
     "text": [
      "<class 'pandas.core.frame.DataFrame'>\n",
      "RangeIndex: 44427 entries, 0 to 44426\n",
      "Data columns (total 13 columns):\n",
      " #   Column           Non-Null Count  Dtype \n",
      "---  ------           --------------  ----- \n",
      " 0   time             44427 non-null  object\n",
      " 1   id               44427 non-null  object\n",
      " 2   device_id        44427 non-null  object\n",
      " 3   user_id          44427 non-null  object\n",
      " 4   result           44427 non-null  object\n",
      " 5   method           44427 non-null  object\n",
      " 6   country          44427 non-null  object\n",
      " 7   organization_id  44427 non-null  object\n",
      " 8   start_date_x     44427 non-null  object\n",
      " 9   type_x           44427 non-null  object\n",
      " 10  os               44427 non-null  object\n",
      " 11  start_date_y     44427 non-null  object\n",
      " 12  type_y           44427 non-null  object\n",
      "dtypes: object(13)\n",
      "memory usage: 4.4+ MB\n"
     ]
    }
   ],
   "source": [
    "merged_df.info()"
   ]
  },
  {
   "cell_type": "code",
   "execution_count": 449,
   "id": "08e75f85",
   "metadata": {},
   "outputs": [
    {
     "data": {
      "text/plain": [
       "Index(['time', 'id', 'device_id', 'user_id', 'result', 'method', 'country',\n",
       "       'organization_id', 'start_date_x', 'type_x', 'os', 'start_date_y',\n",
       "       'type_y'],\n",
       "      dtype='object')"
      ]
     },
     "execution_count": 449,
     "metadata": {},
     "output_type": "execute_result"
    }
   ],
   "source": [
    "merged_df.columns\n"
   ]
  },
  {
   "cell_type": "code",
   "execution_count": 450,
   "id": "4aa02ca9",
   "metadata": {},
   "outputs": [
    {
     "data": {
      "image/png": "[encoded data removed]",
      "text/plain": [
       "<Figure size 1000x600 with 1 Axes>"
      ]
     },
     "metadata": {},
     "output_type": "display_data"
    }
   ],
   "source": [
    "# Visualize failed authentication attempts by user organization\n",
    "plt.figure(figsize=(10, 6))\n",
    "sns.countplot(data=merged_df, x='type_x', hue='result')\n",
    "plt.title('Failed Authentication Attempts by User Organization')\n",
    "plt.xlabel('User Organization')\n",
    "plt.ylabel('Count')\n",
    "plt.xticks(rotation=45)\n",
    "plt.legend(title='Authentication Result')\n",
    "plt.show()"
   ]
  },
  {
   "cell_type": "code",
   "execution_count": 451,
   "id": "da7268c9",
   "metadata": {},
   "outputs": [
    {
     "data": {
      "image/png": "[encoded data removed]",
      "text/plain": [
       "<Figure size 1000x600 with 1 Axes>"
      ]
     },
     "metadata": {},
     "output_type": "display_data"
    }
   ],
   "source": [
    "# Visualize failed authentication attempts by device type\n",
    "plt.figure(figsize=(10, 6))\n",
    "sns.countplot(data=merged_df, x='type_y', hue='result')\n",
    "plt.title('Failed Authentication Attempts by Device Type')\n",
    "plt.xlabel('Device Type')\n",
    "plt.ylabel('Count')\n",
    "plt.xticks(rotation=45)\n",
    "plt.legend(title='Authentication Result')\n",
    "plt.show()"
   ]
  },
  {
   "cell_type": "code",
   "execution_count": 452,
   "id": "e1d6b1cd",
   "metadata": {},
   "outputs": [
    {
     "data": {
      "image/png": "[encoded data removed]",
      "text/plain": [
       "<Figure size 1000x600 with 1 Axes>"
      ]
     },
     "metadata": {},
     "output_type": "display_data"
    }
   ],
   "source": [
    "# Visualize failed authentication attempts by device type\n",
    "plt.figure(figsize=(10, 6))\n",
    "sns.countplot(data=merged_df, x='method', hue='result')\n",
    "plt.title('Failed Authentication Attempts by method Type')\n",
    "plt.xlabel('method')\n",
    "plt.ylabel('Count')\n",
    "plt.xticks(rotation=45)\n",
    "plt.legend(title='Authentication Result')\n",
    "plt.show()"
   ]
  },
  {
   "cell_type": "code",
   "execution_count": 453,
   "id": "0b3dd8ca",
   "metadata": {},
   "outputs": [
    {
     "data": {
      "image/png": "[encoded data removed]",
      "text/plain": [
       "<Figure size 1000x600 with 1 Axes>"
      ]
     },
     "metadata": {},
     "output_type": "display_data"
    }
   ],
   "source": [
    "# Visualize failed authentication attempts by device type\n",
    "plt.figure(figsize=(10, 6))\n",
    "sns.countplot(data=merged_df, x='country', hue='result')\n",
    "plt.title('Failed Authentication Attempts by country')\n",
    "plt.xlabel('country')\n",
    "plt.ylabel('Count')\n",
    "plt.xticks(rotation=45)\n",
    "plt.legend(title='Authentication Result')\n",
    "plt.show()"
   ]
  },
  {
   "cell_type": "code",
   "execution_count": 454,
   "id": "047737cf",
   "metadata": {},
   "outputs": [
    {
     "data": {
      "image/png": "[encoded data removed]",
      "text/plain": [
       "<Figure size 1000x600 with 1 Axes>"
      ]
     },
     "metadata": {},
     "output_type": "display_data"
    }
   ],
   "source": [
    "# Visualize failed authentication attempts by device type\n",
    "plt.figure(figsize=(10, 6))\n",
    "sns.countplot(data=merged_df, x='os', hue='result')\n",
    "plt.title('Failed Authentication Attempts by os')\n",
    "plt.xlabel('os')\n",
    "plt.ylabel('Count')\n",
    "plt.xticks(rotation=45)\n",
    "plt.legend(title='Authentication Result')\n",
    "plt.show()"
   ]
  },
  {
   "cell_type": "code",
   "execution_count": null,
   "id": "757a068f",
   "metadata": {},
   "outputs": [],
   "source": []
  },
  {
   "cell_type": "code",
   "execution_count": null,
   "id": "152582a6",
   "metadata": {},
   "outputs": [],
   "source": []
  }
 ],
 "metadata": {
  "kernelspec": {
   "display_name": "Python 3 (ipykernel)",
   "language": "python",
   "name": "python3"
  },
  "language_info": {
   "codemirror_mode": {
    "name": "ipython",
    "version": 3
   },
   "file_extension": ".py",
   "mimetype": "text/x-python",
   "name": "python",
   "nbconvert_exporter": "python",
   "pygments_lexer": "ipython3",
   "version": "3.10.12"
  }
 },
 "nbformat": 4,
 "nbformat_minor": 5
}
