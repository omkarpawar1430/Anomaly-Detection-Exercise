{
 "cells": [
  {
   "cell_type": "code",
   "execution_count": 2,
   "metadata": {},
   "outputs": [],
   "source": [
    "import pandas as pd\n",
    "import numpy as np\n",
    "import matplotlib.pyplot as plt\n",
    "import seaborn as sns\n",
    "from sklearn.preprocessing import LabelEncoder"
   ]
  },
  {
   "cell_type": "code",
   "execution_count": 3,
   "metadata": {},
   "outputs": [],
   "source": [
    "orgs=pd.read_csv(r\"/home/omkar/Omkar Pawar/Data Science/JOB APPLICATION TASKS/Anomaly Detection Exercise/assets/candidate_eval_04/candidate_eval_04/data/orgs.csv\")\n",
    "devices=pd.read_csv(r\"/home/omkar/Omkar Pawar/Data Science/JOB APPLICATION TASKS/Anomaly Detection Exercise/assets/candidate_eval_04/candidate_eval_04/data/devices.csv\")\n",
    "auth=pd.read_csv(r\"/home/omkar/Omkar Pawar/Data Science/JOB APPLICATION TASKS/Anomaly Detection Exercise/assets/candidate_eval_04/candidate_eval_04/data/auth.csv\")\n",
    "users=pd.read_csv(r\"/home/omkar/Omkar Pawar/Data Science/JOB APPLICATION TASKS/Anomaly Detection Exercise/assets/candidate_eval_04/candidate_eval_04/data/users.csv\")"
   ]
  },
  {
   "cell_type": "code",
   "execution_count": 4,
   "metadata": {},
   "outputs": [
    {
     "data": {
      "text/plain": [
       "device_id     0\n",
       "type         29\n",
       "os           57\n",
       "dtype: int64"
      ]
     },
     "execution_count": 4,
     "metadata": {},
     "output_type": "execute_result"
    }
   ],
   "source": [
    "devices.isna().sum()"
   ]
  },
  {
   "cell_type": "code",
   "execution_count": 5,
   "metadata": {},
   "outputs": [
    {
     "data": {
      "text/plain": [
       "False    500\n",
       "Name: count, dtype: int64"
      ]
     },
     "execution_count": 5,
     "metadata": {},
     "output_type": "execute_result"
    }
   ],
   "source": [
    "devices.duplicated().value_counts()"
   ]
  },
  {
   "cell_type": "code",
   "execution_count": 6,
   "metadata": {},
   "outputs": [
    {
     "data": {
      "text/plain": [
       "device_id    0\n",
       "type         0\n",
       "os           0\n",
       "dtype: int64"
      ]
     },
     "execution_count": 6,
     "metadata": {},
     "output_type": "execute_result"
    }
   ],
   "source": [
    "devices=devices.dropna()\n",
    "devices=devices.drop_duplicates()\n",
    "devices.isnull().sum()"
   ]
  },
  {
   "cell_type": "code",
   "execution_count": 7,
   "metadata": {},
   "outputs": [
    {
     "data": {
      "text/plain": [
       "time            0\n",
       "id              0\n",
       "device_id       0\n",
       "user_id         0\n",
       "result          0\n",
       "method       2566\n",
       "country      2497\n",
       "dtype: int64"
      ]
     },
     "execution_count": 7,
     "metadata": {},
     "output_type": "execute_result"
    }
   ],
   "source": [
    "auth.isna().sum()"
   ]
  },
  {
   "cell_type": "code",
   "execution_count": 8,
   "metadata": {},
   "outputs": [
    {
     "name": "stdout",
     "output_type": "stream",
     "text": [
      "Number of duplicate rows: 0\n"
     ]
    }
   ],
   "source": [
    "duplicate_count = auth.duplicated().sum()\n",
    "print(\"Number of duplicate rows:\", duplicate_count)\n"
   ]
  },
  {
   "cell_type": "code",
   "execution_count": 9,
   "metadata": {},
   "outputs": [],
   "source": [
    "auth['method'].fillna(auth['method'].mode()[0], inplace=True)\n",
    "auth['country'].fillna(auth['country'].mode()[0], inplace=True)\n"
   ]
  },
  {
   "cell_type": "code",
   "execution_count": 10,
   "metadata": {},
   "outputs": [],
   "source": [
    "mdf = auth.merge(users, on='user_id').merge(devices, on='device_id').merge(orgs, on='organization_id')"
   ]
  },
  {
   "cell_type": "code",
   "execution_count": 11,
   "metadata": {},
   "outputs": [],
   "source": [
    "# # Convert date and time columns to datetime\n",
    "# mdf['start_date_x'] = pd.to_datetime(mdf['start_date_x'])\n",
    "# mdf['start_date_y'] = pd.to_datetime(mdf['start_date_y'])\n",
    "# mdf['Time'] = pd.to_datetime(mdf['time']).dt.time\n",
    "\n",
    "# # Convert dates to timestamp values\n",
    "# mdf['start_date_x_timestamp'] = (mdf['start_date_x'] - pd.Timestamp(\"1970-01-01\")) // pd.Timedelta('1s')\n",
    "# mdf['start_date_y_timestamp'] = (mdf['start_date_y'] - pd.Timestamp(\"1970-01-01\")) // pd.Timedelta('1s')\n",
    "\n",
    "# # Drop the original date columns\n",
    "# mdf.drop(columns=['start_date_x', 'start_date_y'], inplace=True)\n",
    "\n",
    "# # Convert time to timestamp values\n",
    "# mdf['Time'] = mdf['Time'].apply(lambda t: t.hour * 3600 + t.minute * 60 + t.second)\n"
   ]
  },
  {
   "cell_type": "code",
   "execution_count": 12,
   "metadata": {},
   "outputs": [],
   "source": [
    "# Convert 'time' column to datetime\n",
    "mdf['time'] = pd.to_datetime(mdf['time'])\n",
    "\n",
    "# Extract date features\n",
    "mdf['Year'] = mdf['time'].dt.year\n",
    "mdf['Month'] = mdf['time'].dt.month\n",
    "mdf['Day'] = mdf['time'].dt.day\n",
    "mdf['Time'] = mdf['time'].dt.time  # Extracts the time component\n",
    "\n",
    "# Drop the original 'time' column if needed\n",
    "mdf.drop(columns=['time'], inplace=True)"
   ]
  },
  {
   "cell_type": "code",
   "execution_count": 13,
   "metadata": {},
   "outputs": [],
   "source": [
    "# Apply one-hot encoding to 'method', 'country', and 'os' columns\n",
    "mdf = pd.get_dummies(mdf, columns=['method', 'country', 'os', 'type_x', 'type_y', 'result'], drop_first=True)"
   ]
  },
  {
   "cell_type": "code",
   "execution_count": 14,
   "metadata": {},
   "outputs": [],
   "source": [
    "from sklearn.preprocessing import LabelEncoder\n",
    "# Initialize label encoders\n",
    "label_encoders = {}\n",
    "\n",
    "# Apply label encoding to 'id', 'device_id', 'user_id', and 'organization_id'\n",
    "categorical_columns = ['id', 'device_id', 'user_id', 'organization_id']\n",
    "for column in categorical_columns:\n",
    "    le = LabelEncoder()\n",
    "    mdf[column] = le.fit_transform(mdf[column])\n",
    "    label_encoders[column] = le"
   ]
  },
  {
   "cell_type": "code",
   "execution_count": 15,
   "metadata": {},
   "outputs": [
    {
     "data": {
      "text/html": [
       "<div>\n",
       "<style scoped>\n",
       "    .dataframe tbody tr th:only-of-type {\n",
       "        vertical-align: middle;\n",
       "    }\n",
       "\n",
       "    .dataframe tbody tr th {\n",
       "        vertical-align: top;\n",
       "    }\n",
       "\n",
       "    .dataframe thead th {\n",
       "        text-align: right;\n",
       "    }\n",
       "</style>\n",
       "<table border=\"1\" class=\"dataframe\">\n",
       "  <thead>\n",
       "    <tr style=\"text-align: right;\">\n",
       "      <th></th>\n",
       "      <th>id</th>\n",
       "      <th>device_id</th>\n",
       "      <th>user_id</th>\n",
       "      <th>organization_id</th>\n",
       "      <th>start_date_x</th>\n",
       "      <th>start_date_y</th>\n",
       "      <th>Year</th>\n",
       "      <th>Month</th>\n",
       "      <th>Day</th>\n",
       "      <th>Time</th>\n",
       "      <th>...</th>\n",
       "      <th>country_US</th>\n",
       "      <th>os_ios</th>\n",
       "      <th>os_linux</th>\n",
       "      <th>os_macos</th>\n",
       "      <th>os_windows</th>\n",
       "      <th>type_x_laptop</th>\n",
       "      <th>type_x_mobile</th>\n",
       "      <th>type_y_llc</th>\n",
       "      <th>type_y_nonprofit</th>\n",
       "      <th>result_success</th>\n",
       "    </tr>\n",
       "  </thead>\n",
       "  <tbody>\n",
       "    <tr>\n",
       "      <th>0</th>\n",
       "      <td>3441</td>\n",
       "      <td>23</td>\n",
       "      <td>98</td>\n",
       "      <td>0</td>\n",
       "      <td>2022-10-27</td>\n",
       "      <td>2022-03-25</td>\n",
       "      <td>2022</td>\n",
       "      <td>1</td>\n",
       "      <td>1</td>\n",
       "      <td>00:00:00</td>\n",
       "      <td>...</td>\n",
       "      <td>True</td>\n",
       "      <td>True</td>\n",
       "      <td>False</td>\n",
       "      <td>False</td>\n",
       "      <td>False</td>\n",
       "      <td>False</td>\n",
       "      <td>True</td>\n",
       "      <td>True</td>\n",
       "      <td>False</td>\n",
       "      <td>True</td>\n",
       "    </tr>\n",
       "    <tr>\n",
       "      <th>1</th>\n",
       "      <td>6680</td>\n",
       "      <td>267</td>\n",
       "      <td>98</td>\n",
       "      <td>0</td>\n",
       "      <td>2022-10-27</td>\n",
       "      <td>2022-03-25</td>\n",
       "      <td>2022</td>\n",
       "      <td>1</td>\n",
       "      <td>5</td>\n",
       "      <td>20:00:00</td>\n",
       "      <td>...</td>\n",
       "      <td>True</td>\n",
       "      <td>False</td>\n",
       "      <td>False</td>\n",
       "      <td>False</td>\n",
       "      <td>False</td>\n",
       "      <td>False</td>\n",
       "      <td>True</td>\n",
       "      <td>True</td>\n",
       "      <td>False</td>\n",
       "      <td>True</td>\n",
       "    </tr>\n",
       "    <tr>\n",
       "      <th>2</th>\n",
       "      <td>32783</td>\n",
       "      <td>267</td>\n",
       "      <td>98</td>\n",
       "      <td>0</td>\n",
       "      <td>2022-10-27</td>\n",
       "      <td>2022-03-25</td>\n",
       "      <td>2022</td>\n",
       "      <td>8</td>\n",
       "      <td>3</td>\n",
       "      <td>09:00:00</td>\n",
       "      <td>...</td>\n",
       "      <td>True</td>\n",
       "      <td>False</td>\n",
       "      <td>False</td>\n",
       "      <td>False</td>\n",
       "      <td>False</td>\n",
       "      <td>False</td>\n",
       "      <td>True</td>\n",
       "      <td>True</td>\n",
       "      <td>False</td>\n",
       "      <td>True</td>\n",
       "    </tr>\n",
       "    <tr>\n",
       "      <th>3</th>\n",
       "      <td>3554</td>\n",
       "      <td>267</td>\n",
       "      <td>55</td>\n",
       "      <td>0</td>\n",
       "      <td>2022-11-26</td>\n",
       "      <td>2022-03-25</td>\n",
       "      <td>2023</td>\n",
       "      <td>12</td>\n",
       "      <td>1</td>\n",
       "      <td>21:00:00</td>\n",
       "      <td>...</td>\n",
       "      <td>False</td>\n",
       "      <td>False</td>\n",
       "      <td>False</td>\n",
       "      <td>False</td>\n",
       "      <td>False</td>\n",
       "      <td>False</td>\n",
       "      <td>True</td>\n",
       "      <td>True</td>\n",
       "      <td>False</td>\n",
       "      <td>False</td>\n",
       "    </tr>\n",
       "    <tr>\n",
       "      <th>4</th>\n",
       "      <td>34081</td>\n",
       "      <td>97</td>\n",
       "      <td>98</td>\n",
       "      <td>0</td>\n",
       "      <td>2022-10-27</td>\n",
       "      <td>2022-03-25</td>\n",
       "      <td>2022</td>\n",
       "      <td>1</td>\n",
       "      <td>8</td>\n",
       "      <td>15:00:00</td>\n",
       "      <td>...</td>\n",
       "      <td>True</td>\n",
       "      <td>False</td>\n",
       "      <td>False</td>\n",
       "      <td>True</td>\n",
       "      <td>False</td>\n",
       "      <td>True</td>\n",
       "      <td>False</td>\n",
       "      <td>True</td>\n",
       "      <td>False</td>\n",
       "      <td>True</td>\n",
       "    </tr>\n",
       "  </tbody>\n",
       "</table>\n",
       "<p>5 rows × 25 columns</p>\n",
       "</div>"
      ],
      "text/plain": [
       "      id  device_id  user_id  organization_id start_date_x start_date_y  Year   \n",
       "0   3441         23       98                0   2022-10-27   2022-03-25  2022  \\\n",
       "1   6680        267       98                0   2022-10-27   2022-03-25  2022   \n",
       "2  32783        267       98                0   2022-10-27   2022-03-25  2022   \n",
       "3   3554        267       55                0   2022-11-26   2022-03-25  2023   \n",
       "4  34081         97       98                0   2022-10-27   2022-03-25  2022   \n",
       "\n",
       "   Month  Day      Time  ...  country_US  os_ios  os_linux  os_macos   \n",
       "0      1    1  00:00:00  ...        True    True     False     False  \\\n",
       "1      1    5  20:00:00  ...        True   False     False     False   \n",
       "2      8    3  09:00:00  ...        True   False     False     False   \n",
       "3     12    1  21:00:00  ...       False   False     False     False   \n",
       "4      1    8  15:00:00  ...        True   False     False      True   \n",
       "\n",
       "   os_windows  type_x_laptop  type_x_mobile  type_y_llc  type_y_nonprofit   \n",
       "0       False          False           True        True             False  \\\n",
       "1       False          False           True        True             False   \n",
       "2       False          False           True        True             False   \n",
       "3       False          False           True        True             False   \n",
       "4       False           True          False        True             False   \n",
       "\n",
       "   result_success  \n",
       "0            True  \n",
       "1            True  \n",
       "2            True  \n",
       "3           False  \n",
       "4            True  \n",
       "\n",
       "[5 rows x 25 columns]"
      ]
     },
     "execution_count": 15,
     "metadata": {},
     "output_type": "execute_result"
    }
   ],
   "source": [
    "mdf.head()"
   ]
  },
  {
   "cell_type": "code",
   "execution_count": 16,
   "metadata": {},
   "outputs": [],
   "source": [
    "mdf.drop(columns=['start_date_x', 'start_date_y', 'Time'], inplace= True)"
   ]
  },
  {
   "cell_type": "code",
   "execution_count": 17,
   "metadata": {},
   "outputs": [
    {
     "name": "stderr",
     "output_type": "stream",
     "text": [
      "/home/omkar/.local/lib/python3.10/site-packages/sklearn/base.py:439: UserWarning: X does not have valid feature names, but IsolationForest was fitted with feature names\n",
      "  warnings.warn(\n"
     ]
    }
   ],
   "source": [
    "from sklearn.ensemble import IsolationForest\n",
    "# Create the model\n",
    "isolation_forest = IsolationForest(contamination=0.05)  # Contamination is the expected proportion of anomalies\n",
    "\n",
    "# Fit the model\n",
    "isolation_forest.fit(mdf)\n",
    "# Predict anomalies (outliers)\n",
    "predictions = isolation_forest.predict(mdf)\n",
    "\n",
    "# The predictions array will contain 1 for normal instances and -1 for anomalies\n"
   ]
  },
  {
   "cell_type": "code",
   "execution_count": 18,
   "metadata": {},
   "outputs": [
    {
     "name": "stdout",
     "output_type": "stream",
     "text": [
      "Original User IDs with anomalies:\n",
      "['h8bjzx051' 'h8bjzx051' '95w2cxsmw' ... '0xeakun4p' '0xeakun4p'\n",
      " '0xeakun4p']\n"
     ]
    }
   ],
   "source": [
    "# Assuming label_encoders contains the label encoders for 'user_id' and other categorical columns\n",
    "\n",
    "# Get the indices of anomalies (-1 predictions)\n",
    "anomaly_indices = [i for i, pred in enumerate(predictions) if pred == -1]\n",
    "\n",
    "# Get the user IDs associated with anomalies\n",
    "anomalous_user_ids = mdf.loc[anomaly_indices, 'user_id']\n",
    "\n",
    "# Inverse transform the label-encoded user IDs\n",
    "original_user_ids = label_encoders['user_id'].inverse_transform(anomalous_user_ids)\n",
    "\n",
    "print(\"Original User IDs with anomalies:\")\n",
    "print(original_user_ids)\n"
   ]
  },
  {
   "cell_type": "code",
   "execution_count": 19,
   "metadata": {},
   "outputs": [
    {
     "data": {
      "text/plain": [
       "2222"
      ]
     },
     "execution_count": 19,
     "metadata": {},
     "output_type": "execute_result"
    }
   ],
   "source": [
    "len(original_user_ids)"
   ]
  },
  {
   "cell_type": "code",
   "execution_count": null,
   "metadata": {},
   "outputs": [],
   "source": []
  }
 ],
 "metadata": {
  "kernelspec": {
   "display_name": "Python 3",
   "language": "python",
   "name": "python3"
  },
  "language_info": {
   "codemirror_mode": {
    "name": "ipython",
    "version": 3
   },
   "file_extension": ".py",
   "mimetype": "text/x-python",
   "name": "python",
   "nbconvert_exporter": "python",
   "pygments_lexer": "ipython3",
   "version": "3.10.12"
  },
  "orig_nbformat": 4
 },
 "nbformat": 4,
 "nbformat_minor": 2
}
